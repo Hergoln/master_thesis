{
 "cells": [
  {
   "attachments": {},
   "cell_type": "markdown",
   "metadata": {},
   "source": [
    "# Generator of C lang samples (all of them I guess)"
   ]
  },
  {
   "cell_type": "code",
   "execution_count": null,
   "metadata": {},
   "outputs": [],
   "source": [
    "int main() {\n",
    "    char napis[6];\n",
    "    printf(\"Podaj napis: \");\n",
    "    if(scanf(\"%5s\", napis)!=1)\n",
    "    {\n",
    "        printf(\"Niepoprawny format napisu!\");\n",
    "        return 1;\n",
    "    }\n",
    "    napis[0] = toupper(napis[0]);\n",
    "    napis[1] = toupper(napis[1]);\n",
    "    napis[2] = toupper(napis[2]);\n",
    "    napis[3] = toupper(napis[3]);\n",
    "    napis[4] = toupper(napis[4]);\n",
    "    printf(\"%s\", napis);\n",
    "    return 0;\n",
    "}"
   ]
  },
  {
   "cell_type": "code",
   "execution_count": 3,
   "metadata": {},
   "outputs": [],
   "source": [
    "import numpy as np\n",
    "import random"
   ]
  },
  {
   "attachments": {},
   "cell_type": "markdown",
   "metadata": {},
   "source": [
    "## version 1.0\n",
    "\n",
    "There is always type, an ID and openning curly brace at the beginning that simulates a function definition. Function can have parameters.\n",
    "\n",
    "\n",
    "While generating I assume that if some ID is defined than it is defined \"in order\", it means that there should not be a situation when ID2 is defined before ID1 has been defined\n"
   ]
  },
  {
   "cell_type": "code",
   "execution_count": 4,
   "metadata": {},
   "outputs": [
    {
     "name": "stdout",
     "output_type": "stream",
     "text": [
      "28\n",
      "['void', 'int', 'char', 'STRING', 'NUM', 'return', 'printf', 'scanf', '-', '+', '/', '*', '&', '=', '(', ')', ';', '{', '}', 'EMPTY', 'ID0', 'ID1', 'ID2', 'ID3', 'ID4', 'ID5', 'ID6', 'ID7']\n",
      "['ID0', 'ID1', 'ID2', 'ID3', 'ID4', 'ID5', 'ID6', 'ID7']\n",
      "[]\n"
     ]
    }
   ],
   "source": [
    "beg_call = \"(\"\n",
    "end_call = \")\"\n",
    "beg_block = \"{\"\n",
    "end_block = \"}\"\n",
    "\n",
    "built_in_types = [\"int\", \"char\"]\n",
    "types_to_return_from_function = built_in_types + [\"void\"]\n",
    "\n",
    "math_ops = [\"-\", \"+\", \"/\", \"*\"]\n",
    "EMPTY = \"EMPTY\"\n",
    "static_values_tokens = [\"STRING\", \"NUM\"]\n",
    "\n",
    "vocabulary = [\n",
    "  \"void\", \"int\", \"char\", \"STRING\", \"NUM\", \"return\", \"printf\", \"scanf\", \n",
    "  \"-\", \"+\", \"/\", \"*\", \"&\", \"=\", \"(\", \")\", \";\", \"{\", \"}\", \"EMPTY\"\n",
    "]\n",
    "\n",
    "IDs = []\n",
    "funs = []\n",
    "\n",
    "for index in range(8):\n",
    "  current_id = \"ID\" + str(index)\n",
    "  vocabulary.append(current_id)\n",
    "  IDs.append(current_id)\n",
    "\n",
    "# will add functions in some further generation\n",
    "# for index in range(8):\n",
    "#   current_fun = \"FUN\" + str(index)\n",
    "#   vocabulary.append(current_fun)\n",
    "#   funs.append(current_fun)\n",
    "\n",
    "print(len(vocabulary))\n",
    "print(vocabulary)\n",
    "print(IDs)\n",
    "print(funs)"
   ]
  },
  {
   "cell_type": "code",
   "execution_count": 46,
   "metadata": {},
   "outputs": [],
   "source": [
    "#\n",
    "# defined_ids is a tuple -> (type, ID, definition_place)\n",
    "# definition_place function-:\n",
    "#   0: -body\n",
    "#   1: -argument\n",
    "#   2: -name\n",
    "\n",
    "\n",
    "def val_token_dep_on_type(type):\n",
    "  if type == \"char\":\n",
    "    return \"STRING\"\n",
    "  if type == \"int\":\n",
    "    return \"NUM\"\n",
    "  raise Exception(f\"No known type '{type}'\")\n",
    "\n",
    "def get_first_free_ID(defined_ids):\n",
    "  if len(defined_ids) >= len(IDs):\n",
    "    raise Exception(f\"hueheu, cannot give you another ID cause you already have {len(defined_ids)}\")\n",
    "  return IDs[len(defined_ids)]\n",
    "\n",
    "def arg_pair(defined_ids):\n",
    "  type = random.choice(built_in_types)\n",
    "  return type, (type, get_first_free_ID(defined_ids), 1)\n",
    "\n",
    "def gen_args(defined_ids, no_of_args):\n",
    "  args = []\n",
    "  ids = []\n",
    "  for _ in range(no_of_args):\n",
    "    type, id = arg_pair(defined_ids + ids)\n",
    "    ids.append(id)\n",
    "    args += [type, id[1]] + [\",\"]\n",
    "\n",
    "  # removing comma (',')\n",
    "  if len(args):\n",
    "    del args[-1]\n",
    "\n",
    "  return args, ids\n",
    "\n",
    "def function_start():\n",
    "  function_type = random.choice(types_to_return_from_function)\n",
    "  to_return = [function_type, IDs[0], \"(\"]\n",
    "  defined_ids = [(function_type, IDs[0], 2)]\n",
    "  no_of_args = random.randint(0, len(IDs) // (len(IDs) ** 0.5))\n",
    "  args, ids = gen_args(defined_ids, no_of_args)\n",
    "  \n",
    "  defined_ids += ids\n",
    "  to_return += args + [\")\", \"{\"]\n",
    "  return to_return, defined_ids\n",
    "\n",
    "# will add functions in some further generation\n",
    "# returns list of ID that are passed as arguments\n",
    "def call(defined_ids):\n",
    "  to_return = []\n",
    "  calls_choices = [\"printf\", \"scanf\"] # for now and this whole function will change when I add function calls (or just expression function to use here)\n",
    "  chosen_call = random.choice(calls_choices)\n",
    "  chosen_value = random.choice(static_values_tokens + [id[1] for id in defined_ids if id[2] != 2])\n",
    "  to_return += [chosen_call, \"(\", \"STRING\", \",\", chosen_value, \")\", \";\"]\n",
    "  return to_return, []\n",
    "\n",
    "# can be called only if there are any IDs defined already (not as arguments)\n",
    "# this function is probably going to be the most frequently changed part of this generation\n",
    "def assignment(defined_ids):\n",
    "  chosen_type, chosen_id, definition_place = random.choice(defined_ids)\n",
    "  if definition_place == 0:\n",
    "    return [], [] # cycling\n",
    "  while(chosen_type == \"void\"):\n",
    "    if len(defined_ids) == 1:\n",
    "      return definition(defined_ids)\n",
    "    chosen_type, chosen_id, definition_place = random.choice(defined_ids)\n",
    "  return [chosen_id, \"=\", val_token_dep_on_type(chosen_type), \";\"], []\n",
    "\n",
    "# returns ID that has been defined\n",
    "def definition(defined_ids):\n",
    "  if len(defined_ids) >= len(IDs):\n",
    "    return [], [] # cycling\n",
    "  id = get_first_free_ID(defined_ids)\n",
    "  type = random.choice(built_in_types)\n",
    "  if random.random() > 0.5: # no assignment\n",
    "    tokens = [type, id, \";\"]\n",
    "  else:\n",
    "    tokens = [type, id, \"=\", val_token_dep_on_type(type), \";\"]\n",
    "  return tokens, [(type, id, 1)]\n",
    "\n",
    "# TODO: here I should consider to add operations, mathematical with ids and so on\n",
    "expression_depth = 0\n",
    "def expression(defined_ids):\n",
    "  to_return = []\n",
    "  \n",
    "  return to_return, []\n",
    "\n",
    "def gen_actions(defined_ids, no_of_actions):\n",
    "  to_return = []\n",
    "  actions = [call, definition, assignment, expression]\n",
    "  for _ in range(no_of_actions):\n",
    "    action = random.choice(actions)\n",
    "    tokens, new_ids = action(defined_ids)\n",
    "    to_return += tokens\n",
    "    defined_ids += new_ids\n",
    "    \n",
    "  return to_return, defined_ids\n",
    "\n",
    "def c_v1_simple_generate_samples(no_of_samples):\n",
    "  to_return = []\n",
    "  # for _ in range(no_of_samples):\n",
    "  no_of_actions = random.randint(1, 2)\n",
    "  tokens, defined_ids = function_start()\n",
    "  to_return += tokens\n",
    "  to_return += gen_actions(defined_ids, no_of_actions)[0]\n",
    "  to_return += [\"return\", \"NUM\", \";\", \"}\"] # end of function\n",
    "  return to_return\n",
    "\n",
    "\n",
    "def fill_vector_with_empty_tokens():\n",
    "  pass"
   ]
  },
  {
   "cell_type": "code",
   "execution_count": 57,
   "metadata": {},
   "outputs": [
    {
     "name": "stdout",
     "output_type": "stream",
     "text": [
      "['int', 'ID0', '(', 'char', 'ID1', ',', 'int', 'ID2', ')', '{', 'scanf', '(', 'STRING', ',', 'STRING', ')', ';', 'return', 'NUM', ';', '}']\n"
     ]
    },
    {
     "data": {
      "text/plain": [
       "'int ID0 ( char ID1 , int ID2 ) { scanf ( STRING , STRING ) ; return NUM ; }'"
      ]
     },
     "execution_count": 57,
     "metadata": {},
     "output_type": "execute_result"
    }
   ],
   "source": [
    "generated = c_v1_simple_generate_samples(1)\n",
    "print(generated)\n",
    "\" \".join(generated)"
   ]
  },
  {
   "cell_type": "code",
   "execution_count": 48,
   "metadata": {},
   "outputs": [],
   "source": [
    "for _ in range(10000):\n",
    "  c_v1_simple_generate_samples(1)"
   ]
  }
 ],
 "metadata": {
  "kernelspec": {
   "display_name": "venv",
   "language": "python",
   "name": "python3"
  },
  "language_info": {
   "codemirror_mode": {
    "name": "ipython",
    "version": 3
   },
   "file_extension": ".py",
   "mimetype": "text/x-python",
   "name": "python",
   "nbconvert_exporter": "python",
   "pygments_lexer": "ipython3",
   "version": "3.9.12"
  },
  "orig_nbformat": 4,
  "vscode": {
   "interpreter": {
    "hash": "80d717405e3ce327cfc6a10a7c3be3a4a39215d9a17073dca3e8efe1a3c7fabb"
   }
  }
 },
 "nbformat": 4,
 "nbformat_minor": 2
}

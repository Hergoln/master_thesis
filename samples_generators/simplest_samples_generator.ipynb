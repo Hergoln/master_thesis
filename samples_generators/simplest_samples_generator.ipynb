{
 "cells": [
  {
   "attachments": {},
   "cell_type": "markdown",
   "metadata": {
    "tags": []
   },
   "source": [
    "Vals: NUM, OP\n",
    "\n",
    "OPs: -, +, /, *, ^"
   ]
  },
  {
   "cell_type": "code",
   "execution_count": null,
   "metadata": {},
   "outputs": [],
   "source": [
    "import numpy as np\n",
    "import random"
   ]
  },
  {
   "cell_type": "code",
   "execution_count": null,
   "metadata": {},
   "outputs": [],
   "source": [
    "ops = ['-', '+', '/', '*', '^']\n",
    "EMPTY = 'EMPTY'\n",
    "NUM = 'NUM'\n",
    "EQ_SIGN = '='\n",
    "vocabulary = ops + [EQ_SIGN, NUM, EMPTY] # has to be in this order, DO NOT TOUCH\n",
    "dictionary = {el:idx for idx,el in enumerate(vocabulary)}\n",
    "\n",
    "def gen_sample(length, max_vector_len):\n",
    "  values = []\n",
    "  for _ in range(length):\n",
    "    values.append(dictionary[NUM])\n",
    "    values.append(random.randint(0, len(ops)-1))\n",
    "  values += [dictionary[NUM],dictionary[EQ_SIGN],dictionary[NUM]]\n",
    "  filled_to_the_brim = values + [dictionary[EMPTY] for _ in range(max_vector_len - len(values))]\n",
    "  return filled_to_the_brim\n",
    "\n",
    "def generate_samples(num_samples, min_len, max_len, max_vector_len):\n",
    "  lens = np.random.randint(min_len, max_len, num_samples)\n",
    "  return [gen_sample(l, max_vector_len) for l in lens]\n",
    "\n",
    "def decode_sample(sample):\n",
    "  return [vocabulary[v] for v in sample]\n",
    "\n",
    "def decode_sample_into_text(sample):\n",
    "  return \" \".join([vocabulary[v] for v in sample])"
   ]
  },
  {
   "cell_type": "code",
   "execution_count": null,
   "metadata": {},
   "outputs": [],
   "source": [
    "num_samples = 10_000\n",
    "min_sample_len = 4 # min sample pairs NUM + OP, beside that every sample also has EQ_SIGN NUM pair at the end\n",
    "max_sample_len = 60\n",
    "max_vector_len = 128 # arbitrary value, has to be constant\n",
    "max_sample_len * 2 + 3"
   ]
  },
  {
   "cell_type": "code",
   "execution_count": null,
   "metadata": {},
   "outputs": [],
   "source": [
    "samples = generate_samples(num_samples, min_sample_len, max_sample_len, max_vector_len)"
   ]
  },
  {
   "cell_type": "code",
   "execution_count": null,
   "metadata": {},
   "outputs": [],
   "source": [
    "samples = np.asarray(samples)\n",
    "print(samples.shape)\n",
    "samples"
   ]
  },
  {
   "cell_type": "code",
   "execution_count": null,
   "metadata": {},
   "outputs": [],
   "source": [
    "decode_sample_into_text(samples[132])"
   ]
  },
  {
   "cell_type": "code",
   "execution_count": null,
   "metadata": {},
   "outputs": [],
   "source": [
    "data_dir_path = \"..\\\\data\\\\simplest_language_model\"\n",
    "for idx, sample in enumerate(samples):\n",
    "  np.savetxt(f\"{data_dir_path}\\\\sample_no{idx}.txt\", sample, newline=\",\", fmt=\"%u\")"
   ]
  }
 ],
 "metadata": {
  "kernelspec": {
   "display_name": "venv",
   "language": "python",
   "name": "python3"
  },
  "language_info": {
   "codemirror_mode": {
    "name": "ipython",
    "version": 3
   },
   "file_extension": ".py",
   "mimetype": "text/x-python",
   "name": "python",
   "nbconvert_exporter": "python",
   "pygments_lexer": "ipython3",
   "version": "3.9.12"
  },
  "orig_nbformat": 4,
  "vscode": {
   "interpreter": {
    "hash": "80d717405e3ce327cfc6a10a7c3be3a4a39215d9a17073dca3e8efe1a3c7fabb"
   }
  }
 },
 "nbformat": 4,
 "nbformat_minor": 2
}

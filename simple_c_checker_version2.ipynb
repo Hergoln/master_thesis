{
 "cells": [
  {
   "cell_type": "code",
   "execution_count": 1,
   "metadata": {},
   "outputs": [],
   "source": [
    "from diffusion_libs import get_network, DiffusionModel, scale_dataset\n",
    "from samples_generators import fill_vocabulary_c_v2, convert_back_to_code_c_v2, vocabulary_c_v2\n",
    "import tensorflow as tf\n",
    "from tensorflow import keras\n",
    "import numpy as np\n",
    "import tensorflow as tf"
   ]
  },
  {
   "cell_type": "code",
   "execution_count": 4,
   "metadata": {},
   "outputs": [
    {
     "name": "stdout",
     "output_type": "stream",
     "text": [
      "Dictionary already filled\n"
     ]
    }
   ],
   "source": [
    "fill_vocabulary_c_v2()\n",
    "# sampling\n",
    "min_signal_rate = 0.02\n",
    "max_signal_rate = 0.95\n",
    "\n",
    "# architecture\n",
    "embedding_dims = 32\n",
    "embedding_max_frequency = 1000.0\n",
    "embedding_min_frequency = 1.0\n",
    "\n",
    "# optimization\n",
    "batch_size = 16\n",
    "ema = 0.999\n",
    "learning_rate = 1e-3\n",
    "\n",
    "# dictionary related\n",
    "DICTIONARY_SIZE = len(vocabulary_c_v2)\n",
    "TOKENS_CAPACITY = 256\n",
    "\n",
    "widths = [64, 64, 96, 128, 256]\n",
    "block_depth = 2\n",
    "\n",
    "lang_base = f\"E:\\Studies\\master_thesis\\diffusion_models_checpoints_savespace\\\\final_checkpoints\\simple_c_v3\"\n",
    "model_path = f\"{lang_base}\\cp-0128\\model\""
   ]
  },
  {
   "cell_type": "code",
   "execution_count": 5,
   "metadata": {},
   "outputs": [
    {
     "data": {
      "text/plain": [
       "<tensorflow.python.training.tracking.util.CheckpointLoadStatus at 0x2435dacecd0>"
      ]
     },
     "execution_count": 5,
     "metadata": {},
     "output_type": "execute_result"
    }
   ],
   "source": [
    "network = get_network(\n",
    "      TOKENS_CAPACITY, embedding_min_frequency, embedding_max_frequency, \n",
    "      embedding_dims, widths=widths, block_depth=block_depth, name=\"complicated\"\n",
    "  )\n",
    "\n",
    "model = DiffusionModel(\n",
    "      TOKENS_CAPACITY, DICTIONARY_SIZE, network, batch_size, max_signal_rate, \n",
    "      min_signal_rate, ema, False\n",
    "  )\n",
    "\n",
    "model.compile(\n",
    "    optimizer = keras.optimizers.experimental.Adam(\n",
    "        learning_rate=learning_rate\n",
    "    ),\n",
    "    loss = keras.losses.mean_absolute_error\n",
    ")\n",
    "\n",
    "#normalizer\n",
    "n_w = np.load(f\"{lang_base}\\\\normalizer_weights.npy\", allow_pickle=True)\n",
    "normalizer = keras.layers.Normalization(mean=n_w[0], variance=n_w[1])\n",
    "normalizer.build((TOKENS_CAPACITY))\n",
    "model.normalizer = normalizer\n",
    "model.load_weights(model_path)"
   ]
  },
  {
   "attachments": {},
   "cell_type": "markdown",
   "metadata": {},
   "source": [
    "### First should generate some sample to see if it still generates something that looks like code"
   ]
  },
  {
   "cell_type": "code",
   "execution_count": 6,
   "metadata": {},
   "outputs": [
    {
     "name": "stdout",
     "output_type": "stream",
     "text": [
      "int ID0 ( char ID1 , int ID2 ) {\n",
      " char ID3 = STRING + STRING / STRING & ID3 & ID1 + STRING ;\n",
      " int ID5 = NUM + ID3 / STRING ;\n",
      " int ID6 ;\n",
      " scanf ( STRING , ID4 ) ;\n",
      " ID5 = STRING + STRING ;\n",
      " ID4 = NUM / STRING + NUM ;\n",
      " ID2 = ID3 + ID4 + STRING + STRING ;\n",
      " scanf ( STRING , STRING ) ;\n",
      " ID3 = STRING ;\n",
      " ID6 = ID5 / STRING ;\n",
      " if ( ID5 < = NUM ) {\n",
      " int ID7 ( ID2 + NUM {\n",
      " ID0 > ;\n",
      " scanf ( STRING , NUM ) ;\n",
      " }\n",
      " return NUM ;\n",
      " }\n",
      " EMPTY EMPTY EMPTY EMPTY EMPTY EMPTY EMPTY EMPTY EMPTY EMPTY EMPTY EMPTY EMPTY EMPTY EMPTY EMPTY EMPTY EMPTY EMPTY EMPTY EMPTY EMPTY EMPTY EMPTY EMPTY EMPTY EMPTY EMPTY EMPTY EMPTY EMPTY EMPTY EMPTY EMPTY EMPTY EMPTY EMPTY EMPTY EMPTY EMPTY EMPTY EMPTY EMPTY EMPTY EMPTY EMPTY EMPTY EMPTY EMPTY EMPTY EMPTY EMPTY EMPTY EMPTY EMPTY EMPTY EMPTY EMPTY EMPTY EMPTY EMPTY EMPTY EMPTY EMPTY EMPTY EMPTY EMPTY EMPTY EMPTY EMPTY EMPTY EMPTY EMPTY EMPTY EMPTY EMPTY EMPTY EMPTY EMPTY EMPTY EMPTY EMPTY EMPTY EMPTY EMPTY EMPTY EMPTY EMPTY EMPTY EMPTY EMPTY EMPTY EMPTY EMPTY EMPTY EMPTY EMPTY EMPTY EMPTY EMPTY EMPTY EMPTY EMPTY EMPTY EMPTY EMPTY EMPTY EMPTY EMPTY EMPTY EMPTY EMPTY EMPTY EMPTY EMPTY EMPTY EMPTY EMPTY EMPTY EMPTY EMPTY EMPTY EMPTY EMPTY EMPTY EMPTY EMPTY EMPTY EMPTY EMPTY EMPTY EMPTY EMPTY EMPTY EMPTY EMPTY EMPTY EMPTY EMPTY EMPTY EMPTY\n",
      "\n",
      "void ID0 ( char ID1 , char ID2 ) {\n",
      " char ID3 ;\n",
      " char ID4 = STRING + ID2 + NUM ;\n",
      " char ID5 = NUM - NUM ;\n",
      " char ID7 = STRING + NUM ;\n",
      " printf ( STRING , NUM ) ;\n",
      " scanf ( STRING , NUM ) ;\n",
      " if ( ID4 + ID6 < = NUM & & ID6 | = NUM & & ID4 + ID6 < = NUM ) {\n",
      " ID1 = NUM {\n",
      " int ID8 = ID4 / ID3 + STRING ;\n",
      " int ID8 ;\n",
      " ID5 ( ID5 & ID4 + ID5 / ID5 + ID5 / NUM ;\n",
      " }\n",
      " return NUM ;\n",
      " }\n",
      " EMPTY EMPTY EMPTY EMPTY EMPTY EMPTY EMPTY EMPTY EMPTY EMPTY EMPTY EMPTY EMPTY EMPTY EMPTY EMPTY EMPTY EMPTY EMPTY EMPTY EMPTY EMPTY EMPTY EMPTY EMPTY EMPTY EMPTY EMPTY EMPTY EMPTY EMPTY EMPTY EMPTY EMPTY EMPTY EMPTY EMPTY EMPTY EMPTY EMPTY EMPTY EMPTY EMPTY EMPTY EMPTY EMPTY EMPTY EMPTY EMPTY EMPTY EMPTY EMPTY EMPTY EMPTY EMPTY EMPTY EMPTY EMPTY EMPTY EMPTY EMPTY EMPTY EMPTY EMPTY EMPTY EMPTY EMPTY EMPTY EMPTY EMPTY EMPTY EMPTY EMPTY EMPTY EMPTY EMPTY EMPTY EMPTY EMPTY EMPTY EMPTY EMPTY EMPTY EMPTY EMPTY EMPTY EMPTY EMPTY EMPTY EMPTY EMPTY EMPTY EMPTY EMPTY EMPTY EMPTY EMPTY EMPTY EMPTY EMPTY EMPTY EMPTY EMPTY EMPTY EMPTY EMPTY EMPTY EMPTY EMPTY EMPTY EMPTY EMPTY EMPTY EMPTY EMPTY EMPTY EMPTY EMPTY EMPTY EMPTY EMPTY EMPTY EMPTY EMPTY EMPTY EMPTY EMPTY EMPTY EMPTY EMPTY EMPTY EMPTY EMPTY EMPTY EMPTY EMPTY EMPTY EMPTY EMPTY EMPTY EMPTY EMPTY EMPTY EMPTY EMPTY EMPTY EMPTY\n",
      "\n",
      "int ID0 ( char ID1 , char ID2 ) {\n",
      " char ID3 = STRING + STRING / STRING ;\n",
      " char ID4 ;\n",
      " char ID5 = ID3 / STRING ;\n",
      " char ID6 ;\n",
      " scanf ( STRING , ID5 ) ;\n",
      " ID3 = STRING / ID4 / ID4 / STRING ;\n",
      " if ( ID5 / ID6 < = NUM ) {\n",
      " char ID7 ;\n",
      " scanf ( STRING , STRING ) ;\n",
      " ID8 = STRING ;\n",
      " }\n",
      " return NUM ;\n",
      " }\n",
      " EMPTY EMPTY EMPTY EMPTY EMPTY EMPTY EMPTY EMPTY EMPTY EMPTY EMPTY EMPTY EMPTY EMPTY EMPTY EMPTY EMPTY EMPTY EMPTY EMPTY EMPTY EMPTY EMPTY EMPTY EMPTY EMPTY EMPTY EMPTY EMPTY EMPTY EMPTY EMPTY EMPTY EMPTY EMPTY EMPTY EMPTY EMPTY EMPTY EMPTY EMPTY EMPTY EMPTY EMPTY EMPTY EMPTY EMPTY EMPTY EMPTY EMPTY EMPTY EMPTY EMPTY EMPTY EMPTY EMPTY EMPTY EMPTY EMPTY EMPTY EMPTY EMPTY EMPTY EMPTY EMPTY EMPTY EMPTY EMPTY EMPTY EMPTY EMPTY EMPTY EMPTY EMPTY EMPTY EMPTY EMPTY EMPTY EMPTY EMPTY EMPTY EMPTY EMPTY EMPTY EMPTY EMPTY EMPTY EMPTY EMPTY EMPTY EMPTY EMPTY EMPTY EMPTY EMPTY EMPTY EMPTY EMPTY EMPTY EMPTY EMPTY EMPTY EMPTY EMPTY EMPTY EMPTY EMPTY EMPTY EMPTY EMPTY EMPTY EMPTY EMPTY EMPTY EMPTY EMPTY EMPTY EMPTY EMPTY EMPTY EMPTY EMPTY EMPTY EMPTY EMPTY EMPTY EMPTY EMPTY EMPTY EMPTY EMPTY EMPTY EMPTY EMPTY EMPTY EMPTY EMPTY EMPTY EMPTY EMPTY EMPTY EMPTY EMPTY EMPTY EMPTY EMPTY EMPTY EMPTY EMPTY EMPTY EMPTY EMPTY EMPTY EMPTY EMPTY EMPTY EMPTY EMPTY EMPTY EMPTY EMPTY EMPTY EMPTY EMPTY EMPTY EMPTY EMPTY EMPTY EMPTY EMPTY EMPTY EMPTY EMPTY EMPTY EMPTY EMPTY EMPTY EMPTY\n",
      "\n",
      "int ID0 ( int ID1 , char ID2 , char ID3 , char ID4 ) {\n",
      " char ID5 ;\n",
      " int ID6 = NUM ;\n",
      " int ID7 ) ID4 = STRING ;\n",
      " ID4 = STRING ;\n",
      " ID2 = ID3 / ID5 / ID5 + STRING ;\n",
      " ID3 = ID5 + ID4 + ID3 - STRING / STRING ;\n",
      " printf ( STRING , ID5 ) ;\n",
      " if ( ID2 / ID6 > NUM ) {\n",
      " char ID8 = ID3 / ID4 + ID4 / STRING ;\n",
      " char ID9 ;\n",
      " }\n",
      " return NUM ;\n",
      " }\n",
      " EMPTY EMPTY EMPTY EMPTY EMPTY EMPTY EMPTY EMPTY EMPTY EMPTY EMPTY EMPTY EMPTY EMPTY EMPTY EMPTY EMPTY EMPTY EMPTY EMPTY EMPTY EMPTY EMPTY EMPTY EMPTY EMPTY EMPTY EMPTY EMPTY EMPTY EMPTY EMPTY EMPTY EMPTY EMPTY EMPTY EMPTY EMPTY EMPTY EMPTY EMPTY EMPTY EMPTY EMPTY EMPTY EMPTY EMPTY EMPTY EMPTY EMPTY EMPTY EMPTY EMPTY EMPTY EMPTY EMPTY EMPTY EMPTY EMPTY EMPTY EMPTY EMPTY EMPTY EMPTY EMPTY EMPTY EMPTY EMPTY EMPTY EMPTY EMPTY EMPTY EMPTY EMPTY EMPTY EMPTY EMPTY EMPTY EMPTY EMPTY EMPTY EMPTY EMPTY EMPTY EMPTY EMPTY EMPTY EMPTY EMPTY EMPTY EMPTY EMPTY EMPTY EMPTY EMPTY EMPTY EMPTY EMPTY EMPTY EMPTY EMPTY EMPTY EMPTY EMPTY EMPTY EMPTY EMPTY EMPTY EMPTY EMPTY EMPTY EMPTY EMPTY EMPTY EMPTY EMPTY EMPTY EMPTY EMPTY EMPTY EMPTY EMPTY EMPTY EMPTY EMPTY EMPTY EMPTY EMPTY EMPTY EMPTY EMPTY EMPTY EMPTY EMPTY EMPTY EMPTY EMPTY EMPTY EMPTY EMPTY EMPTY EMPTY EMPTY EMPTY EMPTY EMPTY EMPTY EMPTY EMPTY EMPTY EMPTY EMPTY EMPTY EMPTY EMPTY EMPTY EMPTY EMPTY EMPTY EMPTY EMPTY EMPTY EMPTY EMPTY\n",
      "\n",
      "void ID0 ( int ID1 , char ID2 , void ID3 ) {\n",
      " int ID4 = STRING ;\n",
      " int ID5 = ID2 * ID4 + STRING ;\n",
      " ID2 = ID3 / NUM + NUM + NUM ;\n",
      " scanf ( STRING , NUM ) ;\n",
      " else ) scanf ( STRING , NUM ) ;\n",
      " if ( STRING , STRING ) ;\n",
      " ID2 = ID5 + ID3 / NUM ;\n",
      " if ( ID5 , = NUM & & ID4 + ID5 < = NUM & & ID2 + ID5 > NUM ) {\n",
      " int ID7 {\n",
      " , ID0 ;\n",
      " ID3 = STRING ;\n",
      " }\n",
      " return NUM ;\n",
      " }\n",
      " EMPTY EMPTY EMPTY EMPTY EMPTY EMPTY EMPTY EMPTY EMPTY EMPTY EMPTY EMPTY EMPTY EMPTY EMPTY EMPTY EMPTY EMPTY EMPTY EMPTY EMPTY EMPTY EMPTY EMPTY EMPTY EMPTY EMPTY EMPTY EMPTY EMPTY EMPTY EMPTY EMPTY EMPTY EMPTY EMPTY EMPTY EMPTY EMPTY EMPTY EMPTY EMPTY EMPTY EMPTY EMPTY EMPTY EMPTY EMPTY EMPTY EMPTY EMPTY EMPTY EMPTY EMPTY EMPTY EMPTY EMPTY EMPTY EMPTY EMPTY EMPTY EMPTY EMPTY EMPTY EMPTY EMPTY EMPTY EMPTY EMPTY EMPTY EMPTY EMPTY EMPTY EMPTY EMPTY EMPTY EMPTY EMPTY EMPTY EMPTY EMPTY EMPTY EMPTY EMPTY EMPTY EMPTY EMPTY EMPTY EMPTY EMPTY EMPTY EMPTY EMPTY EMPTY EMPTY EMPTY EMPTY EMPTY EMPTY EMPTY EMPTY EMPTY EMPTY EMPTY EMPTY EMPTY EMPTY EMPTY EMPTY EMPTY EMPTY EMPTY EMPTY EMPTY EMPTY EMPTY EMPTY EMPTY EMPTY EMPTY EMPTY EMPTY EMPTY EMPTY EMPTY EMPTY EMPTY EMPTY EMPTY EMPTY EMPTY EMPTY EMPTY EMPTY EMPTY EMPTY EMPTY EMPTY EMPTY EMPTY EMPTY EMPTY EMPTY EMPTY EMPTY EMPTY EMPTY EMPTY EMPTY EMPTY\n",
      "\n"
     ]
    }
   ],
   "source": [
    "raw, denormalized = model.generate(5,100)\n",
    "for sample in denormalized:\n",
    "  scaled = scale_dataset(sample, DICTIONARY_SIZE)\n",
    "  print(\" \".join(convert_back_to_code_c_v2(scaled)).replace(\";\", \";\\n\").replace(\"{\", \"{\\n\").replace(\"}\", \"}\\n\"))\n",
    "  print()"
   ]
  },
  {
   "cell_type": "code",
   "execution_count": 9,
   "metadata": {},
   "outputs": [
    {
     "name": "stdout",
     "output_type": "stream",
     "text": [
      "int ID0 ( char ID1\n",
      ", char ID2 ) {\n",
      "char ID3 = STRING +\n",
      "STRING / STRING ; char\n",
      "ID4 ; char ID5 =\n",
      "ID3 / STRING ; char\n",
      "ID6 ; scanf ( STRING\n",
      ", ID5 ) ; ID3\n",
      "= STRING / ID4 /\n",
      "ID4 / STRING ; if\n",
      "( ID5 / ID6 <\n",
      "= NUM ) { char\n",
      "ID7 ; scanf ( STRING\n",
      ", STRING ) ; ID8\n",
      "= STRING ; } return\n",
      "NUM ; } EMPTY EMPTY\n",
      "EMPTY EMPTY EMPTY EMPTY EMPTY\n",
      "EMPTY EMPTY EMPTY EMPTY EMPTY\n",
      "EMPTY EMPTY EMPTY EMPTY EMPTY\n",
      "EMPTY EMPTY EMPTY EMPTY EMPTY\n",
      "EMPTY EMPTY EMPTY EMPTY EMPTY\n",
      "EMPTY EMPTY EMPTY EMPTY EMPTY\n",
      "EMPTY EMPTY EMPTY EMPTY EMPTY\n",
      "EMPTY EMPTY EMPTY EMPTY EMPTY\n",
      "EMPTY EMPTY EMPTY EMPTY EMPTY\n",
      "EMPTY EMPTY EMPTY EMPTY EMPTY\n",
      "EMPTY EMPTY EMPTY EMPTY EMPTY\n",
      "EMPTY EMPTY EMPTY EMPTY EMPTY\n",
      "EMPTY EMPTY EMPTY EMPTY EMPTY\n",
      "EMPTY EMPTY EMPTY EMPTY EMPTY\n",
      "EMPTY EMPTY EMPTY EMPTY EMPTY\n",
      "EMPTY EMPTY EMPTY EMPTY EMPTY\n",
      "EMPTY EMPTY EMPTY EMPTY EMPTY\n",
      "EMPTY EMPTY EMPTY EMPTY EMPTY\n",
      "EMPTY EMPTY EMPTY EMPTY EMPTY\n",
      "EMPTY EMPTY EMPTY EMPTY EMPTY\n",
      "EMPTY EMPTY EMPTY EMPTY EMPTY\n",
      "EMPTY EMPTY EMPTY EMPTY EMPTY\n",
      "EMPTY EMPTY EMPTY EMPTY EMPTY\n",
      "EMPTY EMPTY EMPTY EMPTY EMPTY\n",
      "EMPTY EMPTY EMPTY EMPTY EMPTY\n",
      "EMPTY EMPTY EMPTY EMPTY EMPTY\n",
      "EMPTY EMPTY EMPTY EMPTY EMPTY\n",
      "EMPTY EMPTY EMPTY EMPTY EMPTY\n",
      "EMPTY EMPTY EMPTY EMPTY EMPTY\n",
      "EMPTY EMPTY EMPTY EMPTY EMPTY\n",
      "EMPTY EMPTY EMPTY EMPTY EMPTY\n",
      "EMPTY EMPTY EMPTY EMPTY EMPTY\n",
      "EMPTY EMPTY EMPTY EMPTY EMPTY\n",
      "EMPTY EMPTY EMPTY EMPTY EMPTY\n",
      "EMPTY EMPTY EMPTY EMPTY EMPTY\n",
      "EMPTY\n"
     ]
    }
   ],
   "source": [
    "scaled = scale_dataset(denormalized[len(denormalized) - 3], DICTIONARY_SIZE)\n",
    "convs = convert_back_to_code_c_v2(scaled)\n",
    "n = 5\n",
    "chunked = [convs[i:i + n] for i in range(0, len(convs), n)]\n",
    "for symbols in chunked:\n",
    "  print(\" \".join(symbols))"
   ]
  },
  {
   "cell_type": "code",
   "execution_count": 10,
   "metadata": {},
   "outputs": [
    {
     "name": "stdout",
     "output_type": "stream",
     "text": [
      "[0.047 0.643 0.31  0.071 0.664]\n",
      "[0.427 0.06  0.689 0.333 0.382]\n",
      "[0.061 0.724 0.286 0.089 0.178]\n",
      "[0.099 0.179 0.107 0.356 0.061]\n",
      "[0.734 0.359 0.064 0.761 0.284]\n",
      "[0.71  0.183 0.102 0.363 0.066]\n",
      "[0.793 0.359 0.568 0.312 0.09 ]\n",
      "[0.43  0.762 0.339 0.357 0.719]\n",
      "[0.284 0.1   0.191 0.736 0.199]\n",
      "[0.728 0.179 0.106 0.357 0.601]\n",
      "[0.312 0.757 0.181 0.79  0.467]\n",
      "[0.283 0.116 0.337 0.373 0.061]\n",
      "[0.818 0.351 0.566 0.314 0.093]\n",
      "[0.436 0.1   0.33  0.36  0.826]\n",
      "[0.281 0.101 0.351 0.404 0.528]\n",
      "[0.114 0.353 0.407 0.006 0.002]\n",
      "[0.003 0.004 0.002 0.002 0.001]\n",
      "[0.002 0.001 0.002 0.002 0.002]\n",
      "[0.003 0.004 0.001 0.002 0.002]\n",
      "[0.001 0.001 0.    0.    0.001]\n",
      "[0.001 0.    0.001 0.    0.   ]\n",
      "[0.    0.    0.    0.    0.001]\n",
      "[0.001 0.    0.001 0.001 0.   ]\n",
      "[0.    0.001 0.001 0.    0.002]\n",
      "[0.005 0.    0.    0.    0.001]\n",
      "[0.    0.    0.001 0.    0.001]\n",
      "[0.001 0.    0.001 0.001 0.001]\n",
      "[0.    0.    0.    0.    0.001]\n",
      "[0.001 0.    0.    0.001 0.   ]\n",
      "[0. 0. 0. 0. 0.]\n",
      "[0.    0.001 0.    0.    0.   ]\n",
      "[0.    0.001 0.    0.    0.   ]\n",
      "[0.    0.001 0.001 0.    0.   ]\n",
      "[0. 0. 0. 0. 0.]\n",
      "[0. 0. 0. 0. 0.]\n",
      "[0. 0. 0. 0. 0.]\n",
      "[0. 0. 0. 0. 0.]\n",
      "[0. 0. 0. 0. 0.]\n",
      "[0. 0. 0. 0. 0.]\n",
      "[0. 0. 0. 0. 0.]\n",
      "[0. 0. 0. 0. 0.]\n",
      "[0. 0. 0. 0. 0.]\n",
      "[0. 0. 0. 0. 0.]\n",
      "[0. 0. 0. 0. 0.]\n",
      "[0. 0. 0. 0. 0.]\n",
      "[0. 0. 0. 0. 0.]\n",
      "[0. 0. 0. 0. 0.]\n",
      "[0. 0. 0. 0. 0.]\n",
      "[0. 0. 0. 0. 0.]\n",
      "[0. 0. 0. 0. 0.]\n",
      "[0. 0. 0. 0. 0.]\n",
      "[0.]\n"
     ]
    }
   ],
   "source": [
    "l = np.around(denormalized[len(denormalized) - 3], 3).tolist()\n",
    "chunked = [l[i:i + n] for i in range(0, len(l), n)]\n",
    "for symbols in chunked:\n",
    "  print(np.around(np.asarray(symbols), 3))"
   ]
  }
 ],
 "metadata": {
  "kernelspec": {
   "display_name": "venv",
   "language": "python",
   "name": "python3"
  },
  "language_info": {
   "codemirror_mode": {
    "name": "ipython",
    "version": 3
   },
   "file_extension": ".py",
   "mimetype": "text/x-python",
   "name": "python",
   "nbconvert_exporter": "python",
   "pygments_lexer": "ipython3",
   "version": "3.9.12"
  },
  "orig_nbformat": 4,
  "vscode": {
   "interpreter": {
    "hash": "80d717405e3ce327cfc6a10a7c3be3a4a39215d9a17073dca3e8efe1a3c7fabb"
   }
  }
 },
 "nbformat": 4,
 "nbformat_minor": 2
}

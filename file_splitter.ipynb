{
 "cells": [
  {
   "cell_type": "code",
   "execution_count": 2,
   "metadata": {},
   "outputs": [],
   "source": [
    "cntr = 0\n",
    "started = False\n",
    "f_cntr = 0\n",
    "prev = 0\n",
    "input_f = '507_668.c'\n",
    "\n",
    "with open(input_f, 'r') as f:\n",
    "  input = f.read()\n",
    "  for c in range(len(input)):\n",
    "    if input[c] == '{':\n",
    "      started = True\n",
    "      cntr += 1\n",
    "    if input[c] == '}':\n",
    "      cntr -= 1\n",
    "      if cntr == 0 and started:\n",
    "        with open(f'{input_f}{f_cntr}.f', 'w') as f2:\n",
    "          f2.write(input[prev:c + 1])\n",
    "        prev = c + 1\n",
    "        f_cntr += 1"
   ]
  }
 ],
 "metadata": {
  "kernelspec": {
   "display_name": "Python 3.9.12 ('venv': venv)",
   "language": "python",
   "name": "python3"
  },
  "language_info": {
   "codemirror_mode": {
    "name": "ipython",
    "version": 3
   },
   "file_extension": ".py",
   "mimetype": "text/x-python",
   "name": "python",
   "nbconvert_exporter": "python",
   "pygments_lexer": "ipython3",
   "version": "3.9.12"
  },
  "orig_nbformat": 4,
  "vscode": {
   "interpreter": {
    "hash": "80d717405e3ce327cfc6a10a7c3be3a4a39215d9a17073dca3e8efe1a3c7fabb"
   }
  }
 },
 "nbformat": 4,
 "nbformat_minor": 2
}

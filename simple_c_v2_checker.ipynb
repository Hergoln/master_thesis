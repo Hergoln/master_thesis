{
 "cells": [
  {
   "cell_type": "code",
   "execution_count": null,
   "metadata": {},
   "outputs": [],
   "source": [
    "from diffusion_libs import get_network, DiffusionModel, scale_dataset\n",
    "from samples_generators import fill_vocabulary_c_v2, convert_back_to_code_c_v2, vocabulary_c_v2\n",
    "import tensorflow as tf\n",
    "from tensorflow import keras\n",
    "import numpy as np\n",
    "import tensorflow as tf"
   ]
  },
  {
   "cell_type": "code",
   "execution_count": null,
   "metadata": {},
   "outputs": [],
   "source": [
    "fill_vocabulary_c_v2()"
   ]
  },
  {
   "cell_type": "code",
   "execution_count": null,
   "metadata": {},
   "outputs": [],
   "source": [
    "l=[0.26517817,0.6907796,0.29894352,0.1487428,0.58133096,0.19243746,0.61827856,0.24192248,0.2035305,0.269928,0.08415726,0.2820667,0.11488939,0.2261701,0.30342126,0.44104353,0.28319865,0.06820127,0.32027555,0.09270836,0.50981796,0.2571001,0.04192026,0.50146997,0.3624813,0.08730142,0.67982554,0.33098832,0.2544443,0.30133015,0.69524074,0.2680018,0.18276402,0.1557951,0.19386584,0.67463905,0.2873747,0.11811884,0.42231527,0.2712633,0.29623485,0.33558503,0.67510307,0.23530214,0.07279311,0.41926095,0.6480987,0.2929977,0.2771782,0.526836,0.39026964,0.31387225,0.33327556,0.6924293,0.35581845,0.06702519,0.33349374,0.30904725,0.4435469,0.34926605,0.76275957,0.3036555,0.0878798,0.43366644,0.68259144,0.24902442,0.060354047,0.19677399,0.112090915,0.41569692,0.30697235,0.3535924,0.3155025,0.08155588,0.34281635,0.15623495,0.01749542,0.0069087087,0.015458143,0.003822112,0.009401803,0.0029541664,0.0078427745,0.009368916,0.010638436,0.0024585228,0.009296748,0.043148987,0.0026956657,0.021345923,0.016906904,0.0061418926,0.05454376,0.007764605,0.005362839,0.000707905,0.023659477,0.021975972,0.0025401732,0.0047711646,0.033633213,0.04420099,0.0031791225,0.007345532,0.005528644,0.04723661,0.017711375,0.019358968,0.07163201,0.038449295,0.0126548745,0.010830473,0.0597382,0.01767373,0.007770212,0.01368968,0.008566745,0.0019371348,0.0028583785,0.01104568,0.0021993683,0.0047642183,0.02337849,0.009020862,0.010568851,0.023926795,0.0031980784,0.019650478,0.010078916,0.010867778,0.0051715653,0.0058429292,0.04373106,0.019708157,0.0052536014,0.013990955,4.384144e-05,0.0009595109,0.014636031,0.008872147,0.03600596,0.009648928,0.013740365,0.0041847825,0.0006326138,0.016338216,0.017434545,0.029378947,0.048335426,0.014109194,0.005532383,0.022769764,0.009543093,0.0014752838,0.036230434,0.04041338,0.024242843,0.009690509,0.0069187414,0.020723274,0.018592644,0.016263528,0.0012806985,0.026104014,0.030184835,0.0058085537,0.037343234,0.0097825555,0.0027423855,0.0009793171,0.0031245707,0.015844597,0.004988899,0.024174644,0.00048483498,0.0076595964,0.025687067,0.024829013,0.004491893,0.009008514,0.000292628,0.03549917,0.0052562477,0.016672064,0.0140905455,0.008377967,0.009822325,0.01645351,0.009684918,0.0011939645,0.038995586,0.005211831,0.014164164,0.008394734,0.07004184,0.01983876,0.0029200353,0.008640315,0.0011529346,0.0135396095,0.0075432793,0.008895977,0.004961509,0.0049878596,0.0026230835,0.01955462,0.023178268,0.013942475,0.015136424,0.0027315621,0.012218335,0.01105228,0.019930648,0.012228469,0.033109948,0.003165656,0.033420485,0.009561639,0.0022444304,0.0206197,0.0033189552,0.015119414,0.005189324,0.008597111,0.02044468,0.007950445,0.01374843,0.005972414,0.017561462,0.0025765803,0.008170723,0.022462316,0.00566639,0.014751325,0.015989926,0.0060417787,0.055230416,0.004184538,0.0025608654,0.015713993,0.026481899,0.020456713,0.01291556,0.009686856,0.01182254,0.0079492945,0.011751097,0.023203343,0.047357637,0.005919374,0.0110050915,0.032305542,0.0080424985,0.008965878,0.019139878,0.0821796,]\n",
    "print(convert_back_to_code_c_v2(l))"
   ]
  },
  {
   "cell_type": "code",
   "execution_count": null,
   "metadata": {},
   "outputs": [],
   "source": [
    "\n",
    "# sampling\n",
    "min_signal_rate = 0.02\n",
    "max_signal_rate = 0.95\n",
    "\n",
    "# architecture\n",
    "embedding_dims = 32\n",
    "embedding_max_frequency = 1000.0\n",
    "embedding_min_frequency = 1.0\n",
    "\n",
    "# optimization\n",
    "batch_size = 16\n",
    "ema = 0.999\n",
    "learning_rate = 1e-3\n",
    "\n",
    "# dictionary related\n",
    "DICTIONARY_SIZE = len(vocabulary_c_v2)\n",
    "TOKENS_CAPACITY = 256\n",
    "\n",
    "widths = [32, 64, 64, 96, 128]\n",
    "block_depth = 2\n",
    "\n",
    "data_dir = f\"./data/simple_c_v2/\"\n",
    "lang_base = f\"checkpoints/simple_c_v2\"\n",
    "model_path = f\"E:\\Studies\\master_thesis\\codebase\\checkpoints\\simple_c_v2\\cp-0127\\model\""
   ]
  },
  {
   "cell_type": "code",
   "execution_count": null,
   "metadata": {},
   "outputs": [],
   "source": [
    "network = get_network(\n",
    "      TOKENS_CAPACITY, embedding_min_frequency, embedding_max_frequency, \n",
    "      embedding_dims, widths=widths, block_depth=block_depth, name=\"complicated\"\n",
    "  )\n",
    "\n",
    "model = DiffusionModel(\n",
    "      TOKENS_CAPACITY, DICTIONARY_SIZE, network, batch_size, max_signal_rate, \n",
    "      min_signal_rate, ema, False\n",
    "  )\n",
    "\n",
    "model.compile(\n",
    "    optimizer = keras.optimizers.experimental.Adam(\n",
    "        learning_rate=learning_rate\n",
    "    ),\n",
    "    loss = keras.losses.mean_absolute_error\n",
    ")\n",
    "\n",
    "#normalizer\n",
    "n_w = np.load(f\"{lang_base}/normalizer_weights.npy\", allow_pickle=True)\n",
    "normalizer = keras.layers.Normalization(mean=n_w[0], variance=n_w[1])\n",
    "normalizer.build((TOKENS_CAPACITY))\n",
    "model.normalizer = normalizer\n",
    "model.load_weights(model_path)"
   ]
  },
  {
   "attachments": {},
   "cell_type": "markdown",
   "metadata": {},
   "source": [
    "### First should generate some sample to see if it still generates something that looks like code"
   ]
  },
  {
   "cell_type": "code",
   "execution_count": null,
   "metadata": {},
   "outputs": [],
   "source": [
    "raw, denormalized = model.generate(5,30)\n",
    "for sample in denormalized:\n",
    "  scaled = scale_dataset(sample, DICTIONARY_SIZE)\n",
    "  print(\" \".join(convert_back_to_code_c_v2(scaled)).replace(\";\", \";\\n\").replace(\"{\", \"{\\n\"))\n",
    "  print()"
   ]
  },
  {
   "cell_type": "code",
   "execution_count": null,
   "metadata": {},
   "outputs": [],
   "source": [
    "print(vocabulary_c_v2[26])"
   ]
  }
 ],
 "metadata": {
  "kernelspec": {
   "display_name": "venv",
   "language": "python",
   "name": "python3"
  },
  "language_info": {
   "codemirror_mode": {
    "name": "ipython",
    "version": 3
   },
   "file_extension": ".py",
   "mimetype": "text/x-python",
   "name": "python",
   "nbconvert_exporter": "python",
   "pygments_lexer": "ipython3",
   "version": "3.9.12"
  },
  "orig_nbformat": 4,
  "vscode": {
   "interpreter": {
    "hash": "80d717405e3ce327cfc6a10a7c3be3a4a39215d9a17073dca3e8efe1a3c7fabb"
   }
  }
 },
 "nbformat": 4,
 "nbformat_minor": 2
}

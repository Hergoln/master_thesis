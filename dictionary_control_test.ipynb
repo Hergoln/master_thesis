{
 "cells": [
  {
   "cell_type": "code",
   "execution_count": 5,
   "metadata": {},
   "outputs": [
    {
     "data": {
      "text/plain": [
       "67"
      ]
     },
     "execution_count": 5,
     "metadata": {},
     "output_type": "execute_result"
    }
   ],
   "source": [
    "keywords = [\n",
    "  \"return\", \"auto\", \"break\", \"case\", \n",
    "  \"char\", \"const\", \"continue\", \"default\", \n",
    "  \"do\", \"double\", \"else\", \"enum\", \n",
    "  \"extern\", \"float\", \"for\", \"goto\", \"if\", \n",
    "  \"int\", \"long\", \"register\", \"return\", \n",
    "  \"short\", \"signed\", \"sizeof\", \"static\", \n",
    "  \"struct\", \"switch\", \"typedef\", \"union\", \n",
    "  \"unsigned\", \"void\", \"volatile\", \"while\", \n",
    "  \"true\", \"false\", \"printf\", \"scanf\", \"~\", \n",
    "  \"!\", \"#\", \"$\", \"%\", \"^\", \"&\", \"*\", \"(\",\n",
    "  \")\", \"_\", \"+\", \",\", \".\", \"/\", \"|\",\"\\\\\",\n",
    "  \"`\", \"-\", \"=\", \"<\", \">\", \"?\", \"{\", \"}\",\n",
    "  \"'\", \"[\", \"]\", \":\", \";\"]\n",
    "len(keywords)"
   ]
  },
  {
   "cell_type": "code",
   "execution_count": 3,
   "metadata": {},
   "outputs": [
    {
     "data": {
      "text/plain": [
       "24"
      ]
     },
     "execution_count": 3,
     "metadata": {},
     "output_type": "execute_result"
    }
   ],
   "source": [
    "words = [\"return\", \"auto\", \"break\", \"case\", \n",
    "\"const\", \"continue\", \"default\", \n",
    "\"do\", \"else\", \"enum\", \n",
    "\"extern\", \"for\", \"goto\", \"if\", \n",
    "\"register\", \"return\", \"sizeof\", \"static\", \n",
    "\"struct\", \"switch\", \"typedef\", \"union\", \"volatile\", \"while\"]\n",
    "len(words)"
   ]
  },
  {
   "cell_type": "code",
   "execution_count": 2,
   "metadata": {},
   "outputs": [
    {
     "data": {
      "text/plain": [
       "9"
      ]
     },
     "execution_count": 2,
     "metadata": {},
     "output_type": "execute_result"
    }
   ],
   "source": [
    "types = [ \"char\", \"double\", \"float\", \"int\", \"long\", \"short\", \"signed\", \"unsigned\", \"void\"]\n",
    "len(types)"
   ]
  },
  {
   "cell_type": "code",
   "execution_count": 4,
   "metadata": {},
   "outputs": [
    {
     "data": {
      "text/plain": [
       "30"
      ]
     },
     "execution_count": 4,
     "metadata": {},
     "output_type": "execute_result"
    }
   ],
   "source": [
    "signs = [\"~\", \n",
    "  \"!\", \"#\", \"$\", \"%\", \"^\", \"&\", \"*\", \"(\",\n",
    "  \")\", \"_\", \"+\", \",\", \".\", \"/\", \"|\",\"\\\\\",\n",
    "  \"`\", \"-\", \"=\", \"<\", \">\", \"?\", \"{\", \"}\",\n",
    "  \"'\", \"[\", \"]\", \":\", \";\"]\n",
    "len(signs)"
   ]
  },
  {
   "cell_type": "code",
   "execution_count": 7,
   "metadata": {},
   "outputs": [
    {
     "data": {
      "text/plain": [
       "{'false', 'printf', 'scanf', 'true'}"
      ]
     },
     "execution_count": 7,
     "metadata": {},
     "output_type": "execute_result"
    }
   ],
   "source": [
    "hymy = set(keywords) - set(words) - set(types) - set(signs)\n",
    "hymy"
   ]
  },
  {
   "cell_type": "code",
   "execution_count": null,
   "metadata": {},
   "outputs": [],
   "source": [
    "from diffusion_libs import vocabulary, fill_vocabulary\n",
    "\n",
    "fill_vocabulary()\n",
    "print (vocabulary)\n",
    "print(len(vocabulary))"
   ]
  },
  {
   "cell_type": "code",
   "execution_count": null,
   "metadata": {},
   "outputs": [],
   "source": [
    "DICTIONARY_SIZE = 246\n",
    "def scale(dataframe):\n",
    "  return (dataframe * 2 / (DICTIONARY_SIZE - 1)) - 1\n",
    "\n",
    "def rescale(dataframe):\n",
    "  return (dataframe + 1) * (DICTIONARY_SIZE - 1) / 2\n",
    "\n",
    "print(rescale(1))"
   ]
  },
  {
   "cell_type": "code",
   "execution_count": null,
   "metadata": {},
   "outputs": [],
   "source": [
    "d = {'elo':1, 'dwa':2, 'trzy':10}\n",
    "\n",
    "for d_p in d:\n",
    "  print(d_p)"
   ]
  },
  {
   "cell_type": "code",
   "execution_count": null,
   "metadata": {},
   "outputs": [],
   "source": [
    "d = [1.2685301e-12, 2.4788995e-09, 0.0000000e+00, 5.0163799e-06, 0.0000000e+00,\n",
    " 0.0000000e+00, 0.0000000e+00, 0.0000000e+00, 4.6330965e-06, 1.4875030e-06,\n",
    " 0.0000000e+00, 0.0000000e+00, 0.0000000e+00, 5.6638936e-07, 1.4404992e-06,\n",
    " 2.7541048e-06, 0.0000000e+00, 3.7917910e-06, 0.0000000e+00, 0.0000000e+00,\n",
    " 0.0000000e+00, 3.2551120e-06, 1.2405881e-07, 2.7863285e-07]\n",
    "\n",
    "print(sum(d))"
   ]
  },
  {
   "cell_type": "code",
   "execution_count": 1,
   "metadata": {},
   "outputs": [],
   "source": [
    "import tensorflow as tf\n",
    "from matplotlib import pyplot as plt\n",
    "import numpy as np"
   ]
  },
  {
   "cell_type": "code",
   "execution_count": 5,
   "metadata": {},
   "outputs": [
    {
     "name": "stdout",
     "output_type": "stream",
     "text": [
      "tf.Tensor(1.5707964, shape=(), dtype=float32)\n",
      "tf.Tensor(0.14153941, shape=(), dtype=float32)\n"
     ]
    },
    {
     "data": {
      "text/plain": [
       "Text(0, 0.5, 'wartość siły')"
      ]
     },
     "execution_count": 5,
     "metadata": {},
     "output_type": "execute_result"
    },
    {
     "data": {
      "image/png": "[encoded data removed]",
      "text/plain": [
       "<Figure size 800x400 with 1 Axes>"
      ]
     },
     "metadata": {},
     "output_type": "display_data"
    }
   ],
   "source": [
    "steps = 100\n",
    "step = 5\n",
    "step_size = 1.0/steps\n",
    "\n",
    "# diffusion times -> angles\n",
    "start_angle = tf.acos(.0)\n",
    "end_angle = tf.acos(0.99)\n",
    "print(start_angle)\n",
    "print(end_angle)\n",
    "diffusion_angles = np.arange(end_angle, start_angle, (start_angle - end_angle) / steps)\n",
    "\n",
    "# angles -> signal and noise rates\n",
    "signal_rates = tf.cos(diffusion_angles)\n",
    "noise_rates = tf.sin(diffusion_angles)\n",
    "\n",
    "plt.figure(figsize=(8,4))\n",
    "fig = plt.plot(np.arange(0, 1, 1 / steps), signal_rates)\n",
    "plt.plot(np.arange(0, 1, 1 / steps), noise_rates)\n",
    "plt.legend([\"siła sygnału\", \"siła zaszumionego sygnału\"])\n",
    "plt.xlabel(\"czas dyfuzji\")\n",
    "plt.ylabel(\"wartość\")"
   ]
  }
 ],
 "metadata": {
  "kernelspec": {
   "display_name": "Python 3.9.12 ('venv': venv)",
   "language": "python",
   "name": "python3"
  },
  "language_info": {
   "codemirror_mode": {
    "name": "ipython",
    "version": 3
   },
   "file_extension": ".py",
   "mimetype": "text/x-python",
   "name": "python",
   "nbconvert_exporter": "python",
   "pygments_lexer": "ipython3",
   "version": "3.9.12"
  },
  "orig_nbformat": 4,
  "vscode": {
   "interpreter": {
    "hash": "80d717405e3ce327cfc6a10a7c3be3a4a39215d9a17073dca3e8efe1a3c7fabb"
   }
  }
 },
 "nbformat": 4,
 "nbformat_minor": 2
}

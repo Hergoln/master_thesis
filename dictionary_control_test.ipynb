{
 "cells": [
  {
   "cell_type": "code",
   "execution_count": null,
   "metadata": {},
   "outputs": [],
   "source": [
    "from diffusion_libs import vocabulary, fill_vocabulary\n",
    "\n",
    "fill_vocabulary()\n",
    "print (vocabulary)\n",
    "print(len(vocabulary))"
   ]
  },
  {
   "cell_type": "code",
   "execution_count": null,
   "metadata": {},
   "outputs": [],
   "source": [
    "DICTIONARY_SIZE = 246\n",
    "def scale(dataframe):\n",
    "  return (dataframe * 2 / (DICTIONARY_SIZE - 1)) - 1\n",
    "\n",
    "def rescale(dataframe):\n",
    "  return (dataframe + 1) * (DICTIONARY_SIZE - 1) / 2\n",
    "\n",
    "print(rescale(1))"
   ]
  },
  {
   "cell_type": "code",
   "execution_count": null,
   "metadata": {},
   "outputs": [],
   "source": [
    "d = {'elo':1, 'dwa':2, 'trzy':10}\n",
    "\n",
    "for d_p in d:\n",
    "  print(d_p)"
   ]
  },
  {
   "cell_type": "code",
   "execution_count": null,
   "metadata": {},
   "outputs": [],
   "source": [
    "d = [1.2685301e-12, 2.4788995e-09, 0.0000000e+00, 5.0163799e-06, 0.0000000e+00,\n",
    " 0.0000000e+00, 0.0000000e+00, 0.0000000e+00, 4.6330965e-06, 1.4875030e-06,\n",
    " 0.0000000e+00, 0.0000000e+00, 0.0000000e+00, 5.6638936e-07, 1.4404992e-06,\n",
    " 2.7541048e-06, 0.0000000e+00, 3.7917910e-06, 0.0000000e+00, 0.0000000e+00,\n",
    " 0.0000000e+00, 3.2551120e-06, 1.2405881e-07, 2.7863285e-07]\n",
    "\n",
    "print(sum(d))"
   ]
  }
 ],
 "metadata": {
  "kernelspec": {
   "display_name": "Python 3.9.12 ('venv': venv)",
   "language": "python",
   "name": "python3"
  },
  "language_info": {
   "codemirror_mode": {
    "name": "ipython",
    "version": 3
   },
   "file_extension": ".py",
   "mimetype": "text/x-python",
   "name": "python",
   "nbconvert_exporter": "python",
   "pygments_lexer": "ipython3",
   "version": "3.9.12 (main, Apr  4 2022, 05:22:27) [MSC v.1916 64 bit (AMD64)]"
  },
  "orig_nbformat": 4,
  "vscode": {
   "interpreter": {
    "hash": "80d717405e3ce327cfc6a10a7c3be3a4a39215d9a17073dca3e8efe1a3c7fabb"
   }
  }
 },
 "nbformat": 4,
 "nbformat_minor": 2
}

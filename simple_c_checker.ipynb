{
 "cells": [
  {
   "cell_type": "code",
   "execution_count": 8,
   "metadata": {},
   "outputs": [],
   "source": [
    "from diffusion_libs import get_network, DiffusionModel, scale_dataset\n",
    "from samples_generators import fill_vocabulary_c_v1, convert_back_to_code_c_v1, vocabulary_c_v1\n",
    "import tensorflow as tf\n",
    "from tensorflow import keras\n",
    "import numpy as np\n",
    "import tensorflow as tf"
   ]
  },
  {
   "cell_type": "code",
   "execution_count": 13,
   "metadata": {},
   "outputs": [
    {
     "name": "stdout",
     "output_type": "stream",
     "text": [
      "Dictionary already filled\n"
     ]
    }
   ],
   "source": [
    "fill_vocabulary_c_v1()\n",
    "# sampling\n",
    "min_signal_rate = 0.02\n",
    "max_signal_rate = 0.95\n",
    "\n",
    "# architecture\n",
    "embedding_dims = 32\n",
    "embedding_max_frequency = 1000.0\n",
    "embedding_min_frequency = 1.0\n",
    "\n",
    "# optimization\n",
    "batch_size = 16\n",
    "ema = 0.999\n",
    "learning_rate = 1e-3\n",
    "\n",
    "# dictionary related\n",
    "DICTIONARY_SIZE = len(vocabulary_c_v1)\n",
    "TOKENS_CAPACITY = 256\n",
    "\n",
    "widths = [64, 64, 96, 128]\n",
    "block_depth = 2\n",
    "\n",
    "lang_base = f\"E:\\Studies\\master_thesis\\diffusion_models_checpoints_savespace\\D11-02-2023\\simple_c_v1\"\n",
    "model_path = f\"{lang_base}\\cp-0032\\model\""
   ]
  },
  {
   "cell_type": "code",
   "execution_count": 14,
   "metadata": {},
   "outputs": [
    {
     "data": {
      "text/plain": [
       "<tensorflow.python.training.tracking.util.CheckpointLoadStatus at 0x18cbbd94190>"
      ]
     },
     "execution_count": 14,
     "metadata": {},
     "output_type": "execute_result"
    }
   ],
   "source": [
    "network = get_network(\n",
    "      TOKENS_CAPACITY, embedding_min_frequency, embedding_max_frequency, \n",
    "      embedding_dims, widths=widths, block_depth=block_depth, name=\"complicated\"\n",
    "  )\n",
    "\n",
    "model = DiffusionModel(\n",
    "      TOKENS_CAPACITY, DICTIONARY_SIZE, network, batch_size, max_signal_rate, \n",
    "      min_signal_rate, ema, False\n",
    "  )\n",
    "\n",
    "model.compile(\n",
    "    optimizer = keras.optimizers.experimental.Adam(\n",
    "        learning_rate=learning_rate\n",
    "    ),\n",
    "    loss = keras.losses.mean_absolute_error\n",
    ")\n",
    "\n",
    "#normalizer\n",
    "n_w = np.load(f\"{lang_base}\\\\normalizer_weights.npy\", allow_pickle=True)\n",
    "normalizer = keras.layers.Normalization(mean=n_w[0], variance=n_w[1])\n",
    "normalizer.build((TOKENS_CAPACITY))\n",
    "model.normalizer = normalizer\n",
    "model.load_weights(model_path)"
   ]
  },
  {
   "attachments": {},
   "cell_type": "markdown",
   "metadata": {},
   "source": [
    "### First should generate some sample to see if it still generates something that looks like code"
   ]
  },
  {
   "cell_type": "code",
   "execution_count": 17,
   "metadata": {},
   "outputs": [
    {
     "name": "stdout",
     "output_type": "stream",
     "text": [
      "int ID0 ( char ID1 , char ID2 ) {\n",
      " int ID3 ;\n",
      " ID2 = STRING ;\n",
      " int ID4 = STRING / NUM / NUM / STRING ;\n",
      " int ID5 ;\n",
      " ID4 = ID3 / ID2 / ID1 - ID3 + STRING + STRING ;\n",
      " ID5 = ID2 / NUM ;\n",
      " printf ( STRING , ID3 ) ;\n",
      " ID4 = char ;\n",
      " printf ( STRING , ID6 ) ;\n",
      " printf ( STRING , ID2 ) ;\n",
      " ID3 & ID5 + ID4 + char ) ID3 & ID3 - char - ID2 scanf int ) ID3 & ID2 scanf int - int scanf int / int scanf int - int ) ID4 & ID3 scanf int printf ID1 scanf int ) NUM & void }\n",
      " ID3 ( printf int ) {\n",
      " }\n",
      " }\n",
      " }\n",
      " }\n",
      " EMPTY EMPTY EMPTY EMPTY EMPTY EMPTY EMPTY EMPTY EMPTY EMPTY EMPTY EMPTY EMPTY EMPTY EMPTY EMPTY EMPTY EMPTY EMPTY EMPTY EMPTY EMPTY EMPTY EMPTY EMPTY EMPTY EMPTY EMPTY EMPTY EMPTY EMPTY EMPTY EMPTY EMPTY EMPTY EMPTY EMPTY EMPTY EMPTY EMPTY EMPTY EMPTY EMPTY EMPTY EMPTY EMPTY EMPTY EMPTY EMPTY EMPTY EMPTY EMPTY EMPTY EMPTY EMPTY EMPTY EMPTY EMPTY EMPTY EMPTY EMPTY EMPTY EMPTY EMPTY EMPTY EMPTY EMPTY EMPTY EMPTY EMPTY EMPTY EMPTY EMPTY EMPTY EMPTY EMPTY EMPTY EMPTY EMPTY EMPTY EMPTY EMPTY EMPTY EMPTY EMPTY EMPTY EMPTY EMPTY EMPTY EMPTY EMPTY EMPTY EMPTY EMPTY EMPTY EMPTY EMPTY EMPTY EMPTY EMPTY EMPTY EMPTY EMPTY EMPTY EMPTY EMPTY EMPTY EMPTY EMPTY EMPTY EMPTY EMPTY EMPTY EMPTY EMPTY EMPTY EMPTY EMPTY EMPTY EMPTY EMPTY EMPTY\n",
      "\n",
      "char ID0 ( int ID1 , char ID2 ) {\n",
      " int ID3 ) ID2 & ID2 + ID3 + ID2 + STRING + ID2 + NUM ;\n",
      " ID4 = ID1 / ID1 / NUM + NUM / NUM + NUM ;\n",
      " ID1 = ID3 + ID2 + STRING / ID2 / STRING / STRING ;\n",
      " int ID4 ;\n",
      " int ID5 ;\n",
      " return + {\n",
      " }\n",
      " EMPTY EMPTY EMPTY EMPTY EMPTY EMPTY EMPTY EMPTY EMPTY EMPTY EMPTY EMPTY EMPTY EMPTY }\n",
      " EMPTY EMPTY EMPTY EMPTY EMPTY EMPTY EMPTY EMPTY EMPTY EMPTY EMPTY EMPTY EMPTY EMPTY EMPTY EMPTY EMPTY EMPTY EMPTY EMPTY EMPTY EMPTY EMPTY EMPTY EMPTY EMPTY EMPTY EMPTY EMPTY EMPTY EMPTY EMPTY EMPTY EMPTY EMPTY EMPTY EMPTY EMPTY EMPTY EMPTY EMPTY EMPTY EMPTY EMPTY EMPTY EMPTY EMPTY EMPTY EMPTY EMPTY EMPTY EMPTY EMPTY EMPTY EMPTY EMPTY EMPTY EMPTY EMPTY EMPTY EMPTY EMPTY EMPTY EMPTY EMPTY EMPTY EMPTY EMPTY EMPTY EMPTY EMPTY EMPTY EMPTY EMPTY EMPTY EMPTY EMPTY EMPTY EMPTY EMPTY EMPTY EMPTY EMPTY EMPTY EMPTY EMPTY EMPTY EMPTY EMPTY EMPTY EMPTY EMPTY EMPTY EMPTY EMPTY EMPTY EMPTY EMPTY EMPTY EMPTY EMPTY EMPTY EMPTY EMPTY EMPTY EMPTY EMPTY EMPTY EMPTY EMPTY EMPTY EMPTY EMPTY EMPTY EMPTY EMPTY EMPTY EMPTY EMPTY EMPTY EMPTY EMPTY EMPTY EMPTY EMPTY EMPTY EMPTY EMPTY EMPTY EMPTY EMPTY EMPTY EMPTY EMPTY EMPTY EMPTY EMPTY EMPTY EMPTY EMPTY EMPTY EMPTY EMPTY EMPTY EMPTY EMPTY EMPTY EMPTY EMPTY EMPTY EMPTY EMPTY EMPTY EMPTY EMPTY EMPTY EMPTY EMPTY EMPTY EMPTY EMPTY EMPTY EMPTY EMPTY EMPTY EMPTY EMPTY EMPTY EMPTY EMPTY EMPTY EMPTY EMPTY EMPTY EMPTY EMPTY\n",
      "\n",
      "void ID0 ( ) {\n",
      " int ID1 = STRING + char + STRING / NUM + STRING / NUM / NUM / NUM / NUM / NUM * NUM ;\n",
      " ID1 = NUM / STRING ;\n",
      " char ID3 ;\n",
      " char ID4 ;\n",
      " int ID5 = STRING + ID2 / ID2 / NUM ;\n",
      " ID4 = ID3 + ID3 + ID3 + ID2 / ID3 + STRING ;\n",
      " ID4 = STRING - ID3 + ID4 - ID5 / STRING ;\n",
      " ID2 = ID4 = NUM = int EMPTY ID4 ( ) ID2 & ID4 - ID2 + ID4 - char ) ID3 & ID7 - ID4 - char ) void ID8 & ID4 - int - ID5 + char ) return = int EMPTY char ( ) STRING STRING ;\n",
      " }\n",
      " EMPTY EMPTY EMPTY EMPTY EMPTY EMPTY EMPTY EMPTY EMPTY EMPTY EMPTY EMPTY EMPTY EMPTY EMPTY EMPTY EMPTY EMPTY EMPTY EMPTY EMPTY EMPTY EMPTY EMPTY EMPTY EMPTY EMPTY EMPTY EMPTY EMPTY EMPTY EMPTY EMPTY EMPTY EMPTY EMPTY EMPTY EMPTY EMPTY EMPTY EMPTY EMPTY EMPTY EMPTY EMPTY EMPTY EMPTY EMPTY EMPTY EMPTY EMPTY EMPTY EMPTY EMPTY EMPTY EMPTY EMPTY EMPTY EMPTY EMPTY EMPTY EMPTY EMPTY EMPTY EMPTY EMPTY EMPTY EMPTY EMPTY EMPTY EMPTY EMPTY EMPTY EMPTY EMPTY EMPTY EMPTY EMPTY EMPTY EMPTY EMPTY EMPTY EMPTY EMPTY EMPTY EMPTY EMPTY EMPTY EMPTY EMPTY EMPTY EMPTY EMPTY EMPTY EMPTY EMPTY EMPTY EMPTY EMPTY EMPTY EMPTY EMPTY EMPTY EMPTY EMPTY EMPTY EMPTY EMPTY EMPTY EMPTY EMPTY EMPTY EMPTY EMPTY EMPTY EMPTY EMPTY EMPTY EMPTY EMPTY EMPTY EMPTY EMPTY EMPTY EMPTY EMPTY\n",
      "\n",
      "int ID0 ( char ID1 ) {\n",
      " char ID2 ;\n",
      " int ID3 ;\n",
      " int ID5 ;\n",
      " int ID6 ;\n",
      " ID3 = ID4 / STRING ;\n",
      " printf ( char , STRING ) ;\n",
      " ID4 = ID4 / ID2 + ID3 / NUM / NUM ;\n",
      " ID3 = NUM ;\n",
      " return NUM ;\n",
      " }\n",
      " EMPTY EMPTY EMPTY EMPTY EMPTY EMPTY EMPTY EMPTY EMPTY EMPTY EMPTY EMPTY EMPTY EMPTY EMPTY EMPTY EMPTY EMPTY EMPTY EMPTY EMPTY EMPTY EMPTY EMPTY EMPTY EMPTY EMPTY EMPTY EMPTY EMPTY EMPTY EMPTY EMPTY EMPTY EMPTY }\n",
      " EMPTY }\n",
      " }\n",
      " EMPTY EMPTY EMPTY }\n",
      " EMPTY }\n",
      " EMPTY }\n",
      " EMPTY EMPTY EMPTY EMPTY EMPTY EMPTY EMPTY EMPTY EMPTY EMPTY EMPTY EMPTY EMPTY EMPTY EMPTY EMPTY EMPTY EMPTY EMPTY EMPTY EMPTY EMPTY EMPTY EMPTY EMPTY EMPTY EMPTY EMPTY EMPTY EMPTY EMPTY EMPTY EMPTY EMPTY EMPTY EMPTY EMPTY EMPTY EMPTY EMPTY EMPTY EMPTY EMPTY EMPTY EMPTY EMPTY EMPTY EMPTY EMPTY EMPTY EMPTY EMPTY EMPTY EMPTY EMPTY EMPTY EMPTY EMPTY EMPTY EMPTY EMPTY EMPTY EMPTY EMPTY EMPTY EMPTY EMPTY EMPTY EMPTY EMPTY EMPTY EMPTY EMPTY EMPTY EMPTY EMPTY EMPTY EMPTY EMPTY EMPTY EMPTY EMPTY EMPTY EMPTY EMPTY EMPTY EMPTY EMPTY EMPTY EMPTY EMPTY EMPTY EMPTY EMPTY EMPTY EMPTY EMPTY EMPTY EMPTY EMPTY EMPTY EMPTY EMPTY EMPTY EMPTY EMPTY EMPTY EMPTY EMPTY EMPTY EMPTY EMPTY EMPTY EMPTY EMPTY EMPTY EMPTY EMPTY EMPTY EMPTY EMPTY EMPTY EMPTY EMPTY EMPTY EMPTY EMPTY EMPTY EMPTY EMPTY EMPTY EMPTY EMPTY EMPTY EMPTY EMPTY EMPTY EMPTY EMPTY EMPTY EMPTY EMPTY EMPTY EMPTY EMPTY EMPTY EMPTY EMPTY EMPTY EMPTY EMPTY EMPTY EMPTY EMPTY EMPTY EMPTY EMPTY\n",
      "\n",
      "char ID0 ( char ID1 , char ID2 , int ID3 ) {\n",
      " scanf ( STRING , ID2 ) ;\n",
      " int ID4 = ID2 * STRING + NUM / ID2 + STRING ;\n",
      " int ID5 ;\n",
      " char ID6 = ID2 / ID3 / ID5 * ID3 / NUM ;\n",
      " scanf ( STRING , NUM ) ;\n",
      " int ID7 ;\n",
      " ID2 = ID5 + ID4 / STRING ;\n",
      " char ID7 ;\n",
      " return NUM ;\n",
      " }\n",
      " EMPTY EMPTY EMPTY EMPTY EMPTY EMPTY EMPTY EMPTY EMPTY EMPTY EMPTY EMPTY EMPTY EMPTY EMPTY EMPTY EMPTY EMPTY EMPTY EMPTY EMPTY EMPTY EMPTY EMPTY EMPTY EMPTY EMPTY EMPTY EMPTY EMPTY EMPTY EMPTY EMPTY EMPTY EMPTY EMPTY EMPTY EMPTY EMPTY EMPTY EMPTY EMPTY EMPTY EMPTY EMPTY EMPTY EMPTY EMPTY EMPTY EMPTY EMPTY EMPTY EMPTY EMPTY EMPTY EMPTY EMPTY EMPTY EMPTY EMPTY EMPTY EMPTY EMPTY EMPTY EMPTY EMPTY EMPTY EMPTY EMPTY EMPTY EMPTY EMPTY EMPTY EMPTY EMPTY EMPTY EMPTY EMPTY EMPTY EMPTY EMPTY EMPTY EMPTY EMPTY EMPTY EMPTY EMPTY EMPTY EMPTY EMPTY EMPTY EMPTY EMPTY EMPTY EMPTY EMPTY EMPTY EMPTY EMPTY EMPTY EMPTY EMPTY EMPTY EMPTY EMPTY EMPTY EMPTY EMPTY EMPTY EMPTY EMPTY EMPTY EMPTY EMPTY EMPTY EMPTY EMPTY EMPTY EMPTY EMPTY EMPTY EMPTY EMPTY EMPTY EMPTY EMPTY EMPTY EMPTY EMPTY EMPTY EMPTY EMPTY EMPTY EMPTY EMPTY EMPTY EMPTY EMPTY EMPTY EMPTY EMPTY EMPTY EMPTY EMPTY EMPTY EMPTY EMPTY EMPTY EMPTY EMPTY EMPTY EMPTY EMPTY EMPTY EMPTY EMPTY EMPTY EMPTY EMPTY EMPTY EMPTY EMPTY EMPTY EMPTY EMPTY EMPTY EMPTY EMPTY EMPTY EMPTY EMPTY EMPTY EMPTY EMPTY EMPTY EMPTY EMPTY EMPTY EMPTY EMPTY EMPTY EMPTY\n",
      "\n"
     ]
    }
   ],
   "source": [
    "raw, denormalized = model.generate(5,100)\n",
    "for sample in denormalized:\n",
    "  scaled = scale_dataset(sample, DICTIONARY_SIZE)\n",
    "  print(\" \".join(convert_back_to_code_c_v1(scaled)).replace(\";\", \";\\n\").replace(\"{\", \"{\\n\").replace(\"}\", \"}\\n\"))\n",
    "  print()"
   ]
  },
  {
   "cell_type": "code",
   "execution_count": 40,
   "metadata": {},
   "outputs": [
    {
     "name": "stdout",
     "output_type": "stream",
     "text": [
      "char ID0 ( char ID1\n",
      ", char ID2 , int\n",
      "ID3 ) { scanf (\n",
      "STRING , ID2 ) ;\n",
      "int ID4 = ID2 *\n",
      "STRING + NUM / ID2\n",
      "+ STRING ; int ID5\n",
      "; char ID6 = ID2\n",
      "/ ID3 / ID5 *\n",
      "ID3 / NUM ; scanf\n",
      "( STRING , NUM )\n",
      "; int ID7 ; ID2\n",
      "= ID5 + ID4 /\n",
      "STRING ; char ID7 ;\n",
      "return NUM ; } EMPTY\n",
      "EMPTY EMPTY EMPTY EMPTY EMPTY\n",
      "EMPTY EMPTY EMPTY EMPTY EMPTY\n",
      "EMPTY EMPTY EMPTY EMPTY EMPTY\n",
      "EMPTY EMPTY EMPTY EMPTY EMPTY\n",
      "EMPTY EMPTY EMPTY EMPTY EMPTY\n",
      "EMPTY EMPTY EMPTY EMPTY EMPTY\n",
      "EMPTY EMPTY EMPTY EMPTY EMPTY\n",
      "EMPTY EMPTY EMPTY EMPTY EMPTY\n",
      "EMPTY EMPTY EMPTY EMPTY EMPTY\n",
      "EMPTY EMPTY EMPTY EMPTY EMPTY\n",
      "EMPTY EMPTY EMPTY EMPTY EMPTY\n",
      "EMPTY EMPTY EMPTY EMPTY EMPTY\n",
      "EMPTY EMPTY EMPTY EMPTY EMPTY\n",
      "EMPTY EMPTY EMPTY EMPTY EMPTY\n",
      "EMPTY EMPTY EMPTY EMPTY EMPTY\n",
      "EMPTY EMPTY EMPTY EMPTY EMPTY\n",
      "EMPTY EMPTY EMPTY EMPTY EMPTY\n",
      "EMPTY EMPTY EMPTY EMPTY EMPTY\n",
      "EMPTY EMPTY EMPTY EMPTY EMPTY\n",
      "EMPTY EMPTY EMPTY EMPTY EMPTY\n",
      "EMPTY EMPTY EMPTY EMPTY EMPTY\n",
      "EMPTY EMPTY EMPTY EMPTY EMPTY\n",
      "EMPTY EMPTY EMPTY EMPTY EMPTY\n",
      "EMPTY EMPTY EMPTY EMPTY EMPTY\n",
      "EMPTY EMPTY EMPTY EMPTY EMPTY\n",
      "EMPTY EMPTY EMPTY EMPTY EMPTY\n",
      "EMPTY EMPTY EMPTY EMPTY EMPTY\n",
      "EMPTY EMPTY EMPTY EMPTY EMPTY\n",
      "EMPTY EMPTY EMPTY EMPTY EMPTY\n",
      "EMPTY EMPTY EMPTY EMPTY EMPTY\n",
      "EMPTY EMPTY EMPTY EMPTY EMPTY\n",
      "EMPTY EMPTY EMPTY EMPTY EMPTY\n",
      "EMPTY EMPTY EMPTY EMPTY EMPTY\n",
      "EMPTY EMPTY EMPTY EMPTY EMPTY\n",
      "EMPTY EMPTY EMPTY EMPTY EMPTY\n",
      "EMPTY EMPTY EMPTY EMPTY EMPTY\n",
      "EMPTY\n"
     ]
    }
   ],
   "source": [
    "scaled = scale_dataset(denormalized[len(denormalized) - 1], DICTIONARY_SIZE)\n",
    "convs = convert_back_to_code_c_v1(scaled)\n",
    "n = 5\n",
    "chunked = [convs[i:i + n] for i in range(0, len(convs), n)]\n",
    "for symbols in chunked:\n",
    "  print(\" \".join(symbols))"
   ]
  },
  {
   "cell_type": "code",
   "execution_count": 45,
   "metadata": {},
   "outputs": [
    {
     "name": "stdout",
     "output_type": "stream",
     "text": [
      "[0.055 0.583 0.389 0.048 0.611]\n",
      "[0.56  0.053 0.643 0.56  0.039]\n",
      "[0.665 0.424 0.474 0.188 0.383]\n",
      "[0.079 0.553 0.64  0.413 0.445]\n",
      "[0.039 0.692 0.364 0.632 0.292]\n",
      "[0.097 0.244 0.101 0.274 0.626]\n",
      "[0.248 0.093 0.442 0.041 0.709]\n",
      "[0.447 0.054 0.744 0.364 0.63 ]\n",
      "[0.273 0.665 0.287 0.722 0.293]\n",
      "[0.662 0.268 0.101 0.441 0.194]\n",
      "[0.392 0.092 0.551 0.097 0.416]\n",
      "[0.44  0.027 0.779 0.447 0.653]\n",
      "[0.359 0.71  0.242 0.691 0.273]\n",
      "[0.095 0.44  0.046 0.781 0.451]\n",
      "[0.139 0.119 0.451 0.506 0.533]\n",
      "[0.527 0.527 0.524 0.523 0.522]\n",
      "[0.53  0.529 0.528 0.533 0.529]\n",
      "[0.525 0.524 0.525 0.526 0.522]\n",
      "[0.523 0.529 0.524 0.528 0.523]\n",
      "[0.531 0.526 0.53  0.525 0.528]\n",
      "[0.528 0.527 0.528 0.53  0.525]\n",
      "[0.528 0.525 0.526 0.529 0.527]\n",
      "[0.53  0.525 0.526 0.524 0.527]\n",
      "[0.528 0.527 0.528 0.526 0.529]\n",
      "[0.529 0.529 0.528 0.525 0.53 ]\n",
      "[0.529 0.526 0.529 0.527 0.527]\n",
      "[0.524 0.528 0.527 0.527 0.524]\n",
      "[0.528 0.522 0.524 0.524 0.528]\n",
      "[0.524 0.529 0.524 0.526 0.525]\n",
      "[0.525 0.521 0.526 0.522 0.525]\n",
      "[0.527 0.525 0.523 0.524 0.527]\n",
      "[0.525 0.524 0.524 0.526 0.526]\n",
      "[0.526 0.527 0.524 0.526 0.528]\n",
      "[0.524 0.526 0.528 0.528 0.528]\n",
      "[0.527 0.529 0.528 0.528 0.528]\n",
      "[0.526 0.527 0.527 0.529 0.528]\n",
      "[0.526 0.528 0.526 0.527 0.528]\n",
      "[0.527 0.527 0.528 0.527 0.527]\n",
      "[0.527 0.528 0.528 0.528 0.528]\n",
      "[0.528 0.528 0.529 0.528 0.527]\n",
      "[0.528 0.528 0.527 0.527 0.528]\n",
      "[0.527 0.527 0.527 0.528 0.527]\n",
      "[0.527 0.527 0.527 0.529 0.527]\n",
      "[0.527 0.528 0.528 0.527 0.527]\n",
      "[0.527 0.528 0.527 0.528 0.528]\n",
      "[0.527 0.528 0.527 0.528 0.528]\n",
      "[0.528 0.528 0.528 0.528 0.528]\n",
      "[0.528 0.528 0.528 0.528 0.528]\n",
      "[0.528 0.528 0.528 0.528 0.528]\n",
      "[0.528 0.528 0.528 0.528 0.528]\n",
      "[0.528 0.528 0.528 0.528 0.528]\n",
      "[0.528]\n"
     ]
    }
   ],
   "source": [
    "l = np.around(denormalized[len(denormalized) - 1], 3).tolist()\n",
    "chunked = [l[i:i + n] for i in range(0, len(l), n)]\n",
    "for symbols in chunked:\n",
    "  print(np.around(np.asarray(symbols), 3))"
   ]
  }
 ],
 "metadata": {
  "kernelspec": {
   "display_name": "venv",
   "language": "python",
   "name": "python3"
  },
  "language_info": {
   "codemirror_mode": {
    "name": "ipython",
    "version": 3
   },
   "file_extension": ".py",
   "mimetype": "text/x-python",
   "name": "python",
   "nbconvert_exporter": "python",
   "pygments_lexer": "ipython3",
   "version": "3.9.12"
  },
  "orig_nbformat": 4,
  "vscode": {
   "interpreter": {
    "hash": "80d717405e3ce327cfc6a10a7c3be3a4a39215d9a17073dca3e8efe1a3c7fabb"
   }
  }
 },
 "nbformat": 4,
 "nbformat_minor": 2
}

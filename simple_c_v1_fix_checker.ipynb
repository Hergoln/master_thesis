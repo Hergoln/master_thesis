{
 "cells": [
  {
   "attachments": {},
   "cell_type": "markdown",
   "metadata": {},
   "source": [
    "## Notebook contains code that checks how does the loaded model is dealing with bugged sample"
   ]
  },
  {
   "cell_type": "code",
   "execution_count": null,
   "metadata": {},
   "outputs": [],
   "source": [
    "from diffusion_libs import *\n",
    "from samples_generators import fill_vocabulary_c_v1, convert_back_to_code_c_v1\n",
    "import tensorflow as tf\n",
    "from tensorflow import keras\n",
    "import numpy as np\n",
    "import tensorflow as tf"
   ]
  },
  {
   "cell_type": "code",
   "execution_count": null,
   "metadata": {},
   "outputs": [],
   "source": [
    "fill_vocabulary_c_v1()\n",
    "# sampling\n",
    "min_signal_rate = 0.02\n",
    "max_signal_rate = 0.95\n",
    "\n",
    "# architecture\n",
    "embedding_dims = 32\n",
    "embedding_max_frequency = 1000.0\n",
    "embedding_min_frequency = 1.0\n",
    "\n",
    "# optimization\n",
    "batch_size = 16\n",
    "ema = 0.999\n",
    "learning_rate = 1e-3\n",
    "\n",
    "# dictionary related\n",
    "DICTIONARY_SIZE = 37 # only issue is that it displays different value because of floats precision\n",
    "TOKENS_CAPACITY = 256\n",
    "\n",
    "widths = [64, 64, 96, 128]\n",
    "block_depth = 2\n",
    "\n",
    "data_dir = f\"./data/simple_c_v1/\"\n",
    "lang_base = f\"checkpoints/simple_c_v1\"\n",
    "model_path = \"E:\\Studies\\master_thesis\\diffusion_models_checpoints_savespace\\D11-02-2023\\simple_c_v1\\cp-0032\\model\""
   ]
  },
  {
   "cell_type": "code",
   "execution_count": null,
   "metadata": {},
   "outputs": [],
   "source": [
    "network = get_network(\n",
    "      TOKENS_CAPACITY, embedding_min_frequency, embedding_max_frequency, \n",
    "      embedding_dims, widths=widths, block_depth=block_depth, name=\"complicated\"\n",
    "  )\n",
    "\n",
    "model = DiffusionModel(\n",
    "      TOKENS_CAPACITY, DICTIONARY_SIZE, network, batch_size, max_signal_rate, \n",
    "      min_signal_rate, ema, False\n",
    "  )\n",
    "\n",
    "model.compile(\n",
    "    optimizer = keras.optimizers.experimental.Adam(\n",
    "        learning_rate=learning_rate\n",
    "    ),\n",
    "    loss = keras.losses.mean_absolute_error\n",
    ")\n",
    "\n",
    "#normalizer\n",
    "n_w = np.load(f\"{lang_base}/normalizer_weights.npy\", allow_pickle=True)\n",
    "normalizer = keras.layers.Normalization(mean=n_w[0], variance=n_w[1])\n",
    "normalizer.build((TOKENS_CAPACITY))\n",
    "model.normalizer = normalizer\n",
    "model.load_weights(model_path)"
   ]
  },
  {
   "attachments": {},
   "cell_type": "markdown",
   "metadata": {},
   "source": [
    "### First should generate some sample to see if it still generates something that looks like code"
   ]
  },
  {
   "cell_type": "code",
   "execution_count": null,
   "metadata": {},
   "outputs": [],
   "source": [
    "raw, denormalized = model.generate(5,100)\n",
    "for sample in denormalized:\n",
    "  scaled = scale_dataset(sample, DICTIONARY_SIZE)\n",
    "  print(\" \".join(convert_back_to_code_c_v1(scaled)).replace(\"EMPTY\", \"\").replace(\";\", \";\\n\").replace(\"{\", \"{\\n\"))\n",
    "  print()"
   ]
  },
  {
   "attachments": {},
   "cell_type": "markdown",
   "metadata": {},
   "source": [
    "### Lets see what do we get when we just pass few samples to denoise"
   ]
  },
  {
   "cell_type": "code",
   "execution_count": null,
   "metadata": {},
   "outputs": [],
   "source": [
    "Have to remembre to change the model that this uses, now it uses model that ha been only trained on generation\n",
    "model.fix_sample(some sample, I will do that tomorrow, 10)"
   ]
  }
 ],
 "metadata": {
  "kernelspec": {
   "display_name": "venv",
   "language": "python",
   "name": "python3"
  },
  "language_info": {
   "codemirror_mode": {
    "name": "ipython",
    "version": 3
   },
   "file_extension": ".py",
   "mimetype": "text/x-python",
   "name": "python",
   "nbconvert_exporter": "python",
   "pygments_lexer": "ipython3",
   "version": "3.9.12"
  },
  "orig_nbformat": 4,
  "vscode": {
   "interpreter": {
    "hash": "80d717405e3ce327cfc6a10a7c3be3a4a39215d9a17073dca3e8efe1a3c7fabb"
   }
  }
 },
 "nbformat": 4,
 "nbformat_minor": 2
}

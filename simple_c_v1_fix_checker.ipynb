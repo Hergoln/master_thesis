{
 "cells": [
  {
   "attachments": {},
   "cell_type": "markdown",
   "metadata": {},
   "source": [
    "## Notebook contains code that checks how does the loaded model is dealing with bugged sample"
   ]
  },
  {
   "cell_type": "code",
   "execution_count": 1,
   "metadata": {},
   "outputs": [],
   "source": [
    "from diffusion_libs import *\n",
    "from samples_generators import fill_vocabulary_c_v1, convert_back_to_code_c_v1, vocabulary_c_v1\n",
    "import tensorflow as tf\n",
    "from tensorflow import keras\n",
    "import numpy as np\n",
    "import tensorflow as tf"
   ]
  },
  {
   "cell_type": "code",
   "execution_count": 2,
   "metadata": {},
   "outputs": [
    {
     "name": "stdout",
     "output_type": "stream",
     "text": [
      "37\n"
     ]
    }
   ],
   "source": [
    "fill_vocabulary_c_v1()\n",
    "print(len(vocabulary_c_v1))"
   ]
  },
  {
   "cell_type": "code",
   "execution_count": 3,
   "metadata": {},
   "outputs": [],
   "source": [
    "# sampling\n",
    "min_signal_rate = 0.02\n",
    "max_signal_rate = 0.95\n",
    "\n",
    "# architecture\n",
    "embedding_dims = 32\n",
    "embedding_max_frequency = 1000.0\n",
    "embedding_min_frequency = 1.0\n",
    "\n",
    "# optimization\n",
    "batch_size = 16\n",
    "ema = 0.999\n",
    "learning_rate = 1e-3\n",
    "\n",
    "# dictionary related\n",
    "DICTIONARY_SIZE = 37 # only issue is that it displays different value because of floats precision\n",
    "TOKENS_CAPACITY = 256\n",
    "\n",
    "widths = [64, 64, 96, 128]\n",
    "block_depth = 2\n",
    "\n",
    "data_dir = f\"./data/simple_c_v1/\"\n",
    "lang_base = f\"checkpoints/simple_c_v1\"\n",
    "model_path = \"E:\\Studies\\master_thesis\\diffusion_models_checpoints_savespace\\D11-02-2023\\simple_c_v1\\cp-0032\\model\""
   ]
  },
  {
   "cell_type": "code",
   "execution_count": 4,
   "metadata": {},
   "outputs": [
    {
     "ename": "TypeError",
     "evalue": "__init__() takes 8 positional arguments but 9 were given",
     "output_type": "error",
     "traceback": [
      "\u001b[1;31m---------------------------------------------------------------------------\u001b[0m",
      "\u001b[1;31mTypeError\u001b[0m                                 Traceback (most recent call last)",
      "\u001b[1;32me:\\Studies\\master_thesis\\codebase\\simple_c_v1_fix_checker.ipynb Cell 5\u001b[0m in \u001b[0;36m<cell line: 6>\u001b[1;34m()\u001b[0m\n\u001b[0;32m      <a href='vscode-notebook-cell:/e%3A/Studies/master_thesis/codebase/simple_c_v1_fix_checker.ipynb#W3sZmlsZQ%3D%3D?line=0'>1</a>\u001b[0m network \u001b[39m=\u001b[39m get_network(\n\u001b[0;32m      <a href='vscode-notebook-cell:/e%3A/Studies/master_thesis/codebase/simple_c_v1_fix_checker.ipynb#W3sZmlsZQ%3D%3D?line=1'>2</a>\u001b[0m       TOKENS_CAPACITY, embedding_min_frequency, embedding_max_frequency, \n\u001b[0;32m      <a href='vscode-notebook-cell:/e%3A/Studies/master_thesis/codebase/simple_c_v1_fix_checker.ipynb#W3sZmlsZQ%3D%3D?line=2'>3</a>\u001b[0m       embedding_dims, widths\u001b[39m=\u001b[39mwidths, block_depth\u001b[39m=\u001b[39mblock_depth, name\u001b[39m=\u001b[39m\u001b[39m\"\u001b[39m\u001b[39mcomplicated\u001b[39m\u001b[39m\"\u001b[39m\n\u001b[0;32m      <a href='vscode-notebook-cell:/e%3A/Studies/master_thesis/codebase/simple_c_v1_fix_checker.ipynb#W3sZmlsZQ%3D%3D?line=3'>4</a>\u001b[0m   )\n\u001b[1;32m----> <a href='vscode-notebook-cell:/e%3A/Studies/master_thesis/codebase/simple_c_v1_fix_checker.ipynb#W3sZmlsZQ%3D%3D?line=5'>6</a>\u001b[0m model \u001b[39m=\u001b[39m DiffusionModel(\n\u001b[0;32m      <a href='vscode-notebook-cell:/e%3A/Studies/master_thesis/codebase/simple_c_v1_fix_checker.ipynb#W3sZmlsZQ%3D%3D?line=6'>7</a>\u001b[0m       TOKENS_CAPACITY, DICTIONARY_SIZE, network, batch_size, max_signal_rate, \n\u001b[0;32m      <a href='vscode-notebook-cell:/e%3A/Studies/master_thesis/codebase/simple_c_v1_fix_checker.ipynb#W3sZmlsZQ%3D%3D?line=7'>8</a>\u001b[0m       min_signal_rate, ema, \u001b[39mFalse\u001b[39;49;00m\n\u001b[0;32m      <a href='vscode-notebook-cell:/e%3A/Studies/master_thesis/codebase/simple_c_v1_fix_checker.ipynb#W3sZmlsZQ%3D%3D?line=8'>9</a>\u001b[0m   )\n\u001b[0;32m     <a href='vscode-notebook-cell:/e%3A/Studies/master_thesis/codebase/simple_c_v1_fix_checker.ipynb#W3sZmlsZQ%3D%3D?line=10'>11</a>\u001b[0m model\u001b[39m.\u001b[39mcompile(\n\u001b[0;32m     <a href='vscode-notebook-cell:/e%3A/Studies/master_thesis/codebase/simple_c_v1_fix_checker.ipynb#W3sZmlsZQ%3D%3D?line=11'>12</a>\u001b[0m     optimizer \u001b[39m=\u001b[39m keras\u001b[39m.\u001b[39moptimizers\u001b[39m.\u001b[39mexperimental\u001b[39m.\u001b[39mAdam(\n\u001b[0;32m     <a href='vscode-notebook-cell:/e%3A/Studies/master_thesis/codebase/simple_c_v1_fix_checker.ipynb#W3sZmlsZQ%3D%3D?line=12'>13</a>\u001b[0m         learning_rate\u001b[39m=\u001b[39mlearning_rate\n\u001b[0;32m     <a href='vscode-notebook-cell:/e%3A/Studies/master_thesis/codebase/simple_c_v1_fix_checker.ipynb#W3sZmlsZQ%3D%3D?line=13'>14</a>\u001b[0m     ),\n\u001b[0;32m     <a href='vscode-notebook-cell:/e%3A/Studies/master_thesis/codebase/simple_c_v1_fix_checker.ipynb#W3sZmlsZQ%3D%3D?line=14'>15</a>\u001b[0m     loss \u001b[39m=\u001b[39m keras\u001b[39m.\u001b[39mlosses\u001b[39m.\u001b[39mmean_absolute_error\n\u001b[0;32m     <a href='vscode-notebook-cell:/e%3A/Studies/master_thesis/codebase/simple_c_v1_fix_checker.ipynb#W3sZmlsZQ%3D%3D?line=15'>16</a>\u001b[0m )\n\u001b[0;32m     <a href='vscode-notebook-cell:/e%3A/Studies/master_thesis/codebase/simple_c_v1_fix_checker.ipynb#W3sZmlsZQ%3D%3D?line=17'>18</a>\u001b[0m \u001b[39m#normalizer\u001b[39;00m\n",
      "\u001b[1;31mTypeError\u001b[0m: __init__() takes 8 positional arguments but 9 were given"
     ]
    }
   ],
   "source": [
    "network = get_network(\n",
    "      TOKENS_CAPACITY, embedding_min_frequency, embedding_max_frequency, \n",
    "      embedding_dims, widths=widths, block_depth=block_depth, name=\"complicated\"\n",
    "  )\n",
    "\n",
    "model = DiffusionModel(\n",
    "      TOKENS_CAPACITY, DICTIONARY_SIZE, network, batch_size, max_signal_rate, \n",
    "      min_signal_rate, ema\n",
    "  )\n",
    "\n",
    "model.compile(\n",
    "    optimizer = keras.optimizers.experimental.Adam(\n",
    "        learning_rate=learning_rate\n",
    "    ),\n",
    "    loss = keras.losses.mean_absolute_error\n",
    ")\n",
    "\n",
    "#normalizer\n",
    "n_w = np.load(f\"{lang_base}/normalizer_weights.npy\", allow_pickle=True)\n",
    "normalizer = keras.layers.Normalization(mean=n_w[0], variance=n_w[1])\n",
    "normalizer.build((TOKENS_CAPACITY))\n",
    "model.normalizer = normalizer\n",
    "model.load_weights(model_path)"
   ]
  },
  {
   "attachments": {},
   "cell_type": "markdown",
   "metadata": {},
   "source": [
    "### First should generate some sample to see if it still generates something that looks like code"
   ]
  },
  {
   "cell_type": "code",
   "execution_count": null,
   "metadata": {},
   "outputs": [],
   "source": [
    "raw, denormalized = model.generate(5,100)\n",
    "for sample in denormalized:\n",
    "  scaled = scale_dataset(sample, DICTIONARY_SIZE)\n",
    "  print(\" \".join(convert_back_to_code_c_v1(scaled)).replace(\";\", \";\\n\").replace(\"{\", \"{\\n\"))\n",
    "  print()"
   ]
  },
  {
   "attachments": {},
   "cell_type": "markdown",
   "metadata": {},
   "source": [
    "### Lets see what do we get when we just pass few samples to denoise"
   ]
  },
  {
   "cell_type": "code",
   "execution_count": null,
   "metadata": {},
   "outputs": [],
   "source": [
    "Have to remembre to change the model that this uses, now it uses model that ha been only trained on generation\n",
    "model.fix_sample(some sample, I will do that tomorrow, 10)"
   ]
  }
 ],
 "metadata": {
  "kernelspec": {
   "display_name": "venv",
   "language": "python",
   "name": "python3"
  },
  "language_info": {
   "codemirror_mode": {
    "name": "ipython",
    "version": 3
   },
   "file_extension": ".py",
   "mimetype": "text/x-python",
   "name": "python",
   "nbconvert_exporter": "python",
   "pygments_lexer": "ipython3",
   "version": "3.9.12"
  },
  "orig_nbformat": 4,
  "vscode": {
   "interpreter": {
    "hash": "80d717405e3ce327cfc6a10a7c3be3a4a39215d9a17073dca3e8efe1a3c7fabb"
   }
  }
 },
 "nbformat": 4,
 "nbformat_minor": 2
}

{
 "cells": [
  {
   "attachments": {},
   "cell_type": "markdown",
   "metadata": {},
   "source": [
    "## Notebook contains code that checks how does the loaded model is dealing with bugged sample"
   ]
  },
  {
   "cell_type": "code",
   "execution_count": null,
   "metadata": {},
   "outputs": [],
   "source": [
    "from diffusion_libs import *\n",
    "from samples_generators import fill_vocabulary_c_v1, convert_back_to_code_c_v1, vocabulary_c_v1\n",
    "import tensorflow as tf\n",
    "from tensorflow import keras\n",
    "import numpy as np\n",
    "import tensorflow as tf"
   ]
  },
  {
   "cell_type": "code",
   "execution_count": null,
   "metadata": {},
   "outputs": [],
   "source": [
    "fill_vocabulary_c_v1()\n",
    "print(len(vocabulary_c_v1))"
   ]
  },
  {
   "cell_type": "code",
   "execution_count": null,
   "metadata": {},
   "outputs": [],
   "source": [
    "# sampling\n",
    "min_signal_rate = 0.02\n",
    "max_signal_rate = 0.95\n",
    "\n",
    "# architecture\n",
    "embedding_dims = 32\n",
    "embedding_max_frequency = 1000.0\n",
    "embedding_min_frequency = 1.0\n",
    "\n",
    "# optimization\n",
    "batch_size = 16\n",
    "ema = 0.999\n",
    "learning_rate = 1e-3\n",
    "\n",
    "# dictionary related\n",
    "DICTIONARY_SIZE = 37\n",
    "TOKENS_CAPACITY = 256\n",
    "\n",
    "widths = [64, 64, 96, 128]\n",
    "block_depth = 2\n",
    "\n",
    "lang_base = \"E:\\Studies\\master_thesis\\diffusion_models_checpoints_savespace\\\\final_checkpoints\\simple_c_v1\"\n",
    "model_path = f\"{lang_base}\\cp-0032\\model\""
   ]
  },
  {
   "cell_type": "code",
   "execution_count": null,
   "metadata": {},
   "outputs": [],
   "source": [
    "network = get_network(\n",
    "      TOKENS_CAPACITY, embedding_min_frequency, embedding_max_frequency, \n",
    "      embedding_dims, widths=widths, block_depth=block_depth, name=\"complicated\"\n",
    "  )\n",
    "\n",
    "model = DiffusionModel(\n",
    "      TOKENS_CAPACITY, DICTIONARY_SIZE, network, batch_size, max_signal_rate, \n",
    "      min_signal_rate, ema\n",
    "  )\n",
    "\n",
    "model.compile(\n",
    "    optimizer = keras.optimizers.experimental.Adam(\n",
    "        learning_rate=learning_rate\n",
    "    ),\n",
    "    loss = keras.losses.mean_absolute_error\n",
    ")\n",
    "\n",
    "#normalizer\n",
    "n_w = np.load(f\"{lang_base}/normalizer_weights.npy\", allow_pickle=True)\n",
    "normalizer = keras.layers.Normalization(mean=n_w[0], variance=n_w[1])\n",
    "normalizer.build((TOKENS_CAPACITY))\n",
    "model.normalizer = normalizer\n",
    "model.load_weights(model_path)"
   ]
  },
  {
   "attachments": {},
   "cell_type": "markdown",
   "metadata": {},
   "source": [
    "### First should generate some sample to see if it still generates something that looks like code"
   ]
  },
  {
   "cell_type": "code",
   "execution_count": null,
   "metadata": {},
   "outputs": [],
   "source": [
    "%%script false --no-raise-error\n",
    "raw, denormalized = model.generate(5,100)\n",
    "for sample in denormalized:\n",
    "  scaled = scale_dataset(sample, DICTIONARY_SIZE)\n",
    "  print(\" \".join(convert_back_to_code_c_v1(scaled)).replace(\";\", \";\\n\").replace(\"{\", \"{\\n\"))\n",
    "  print()"
   ]
  },
  {
   "attachments": {},
   "cell_type": "markdown",
   "metadata": {},
   "source": [
    "### Lets see what do we get when we just pass few samples to denoise"
   ]
  },
  {
   "cell_type": "code",
   "execution_count": null,
   "metadata": {},
   "outputs": [],
   "source": [
    "fill_vocabulary_c_v1()\n",
    "cv1Dict = {el:idx for idx,el in enumerate(vocabulary_c_v1)}\n",
    "def tokens_to_vals(dict):\n",
    "  def apply(sample):\n",
    "    return [dict[token] for token in sample]\n",
    "  return apply\n",
    "# sample\n",
    "pure_sample = [\"int ID0 ( int ID1 ) {\",\n",
    "              \"int ID2 = NUM - ID1 * NUM ;\",\n",
    "              \"int ID3 ;\",\n",
    "              \"printf ( STRING , ID2 ) ;\",\n",
    "              \"ID3 = ID1 / ID2 / NUM ;\",\n",
    "              \"ID2 = ID1 * NUM - ID1 / NUM * NUM ;\",\n",
    "              \"ID3 = ID0 + NUM + NUM * NUM ;\",\n",
    "              \"printf ( STRING , ID3 ) ;\",\n",
    "              \"return NUM ;\",\n",
    "              \"}\"]\n",
    "pure_sample = [part2 for part in pure_sample for part2 in part.split(\" \")]\n",
    "filled_with_empty_sample = pure_sample + [\"EMPTY\" for _ in range(TOKENS_CAPACITY - len(pure_sample))]\n",
    "tokenized_sample = tokens_to_vals(cv1Dict)(filled_with_empty_sample)\n",
    "scaled_sample = np.asarray([token / len(vocabulary_c_v1) for token in tokenized_sample])"
   ]
  },
  {
   "cell_type": "code",
   "execution_count": null,
   "metadata": {},
   "outputs": [],
   "source": [
    "from samples_generators import remove_token_and_shift_sample_randomized\n",
    "remove_tokens_introducer = remove_token_and_shift_sample_randomized([\";\", \"+\", \"-\", \"/\", \"=\", \"(\", \"}\"], 0.5, cv1Dict, TOKENS_CAPACITY)\n",
    "tokenized_error_sample = remove_tokens_introducer([tokenized_sample])[0]\n",
    "errored_sample = [vocabulary_c_v1[val_token] for val_token in tokenized_error_sample]\n",
    "print(\" \".join(errored_sample))\n",
    "scaled_error_sample = np.asarray([token / len(vocabulary_c_v1) for token in tokenized_error_sample])"
   ]
  },
  {
   "cell_type": "code",
   "execution_count": null,
   "metadata": {},
   "outputs": [],
   "source": [
    "raw, denormalized = model.fix_sample(scaled_error_sample, 200)\n",
    "sample = denormalized[0]\n",
    "scaled = scale_dataset(sample, DICTIONARY_SIZE)\n",
    "print(\" \".join(convert_back_to_code_c_v1(scaled)).replace(\";\", \";\\n\").replace(\"{\", \"{\\n\"))"
   ]
  }
 ],
 "metadata": {
  "kernelspec": {
   "display_name": "venv",
   "language": "python",
   "name": "python3"
  },
  "language_info": {
   "codemirror_mode": {
    "name": "ipython",
    "version": 3
   },
   "file_extension": ".py",
   "mimetype": "text/x-python",
   "name": "python",
   "nbconvert_exporter": "python",
   "pygments_lexer": "ipython3",
   "version": "3.9.12"
  },
  "orig_nbformat": 4,
  "vscode": {
   "interpreter": {
    "hash": "80d717405e3ce327cfc6a10a7c3be3a4a39215d9a17073dca3e8efe1a3c7fabb"
   }
  }
 },
 "nbformat": 4,
 "nbformat_minor": 2
}

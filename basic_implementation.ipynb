{
 "cells": [
  {
   "cell_type": "markdown",
   "metadata": {},
   "source": [
    "# Basic implementation\n",
    "\n",
    "- load file\n",
    "  - ~~load file with encoded function~~\n",
    "  - ~~turn it into a numpy array~~\n",
    "- noise (preprocessing)\n",
    "  - scale vector into 0-1 range\n",
    "  - add noise into it vectors values\n",
    "  - (test) rescale vector into values range 0-{whatever my dictionary size is}\n",
    "- pass it through a model\n",
    "  - create a simple model (does not have to be diffusion)\n",
    "  - (optional) develop loss function\n",
    "  - (optional) implement diffusion model\n",
    "\n",
    "### <span style=\"color:red\"> IMPORTANT </span>\n",
    "- parsing files results in more files than the original (file per function in file). should consider it while loading dataset\n",
    "  - ~~split *.c files into functions~~\n",
    "  - clean *.c files from unnecessary white spaces (most likely the same way it is done in lexer)"
   ]
  },
  {
   "cell_type": "markdown",
   "metadata": {},
   "source": [
    "## Loading vectors"
   ]
  },
  {
   "cell_type": "code",
   "execution_count": 14,
   "metadata": {},
   "outputs": [],
   "source": [
    "import numpy as np\n",
    "import os\n",
    "from multiprocessing.pool import ThreadPool\n",
    "\n",
    "def prepare_record(c_file, parsed_file):\n",
    "  parsed = np.loadtxt(parsed_file, dtype=float)\n",
    "  return c_file, parsed\n",
    "\n",
    "'''\n",
    "  Because code files weight very little they can all be loaded at once\n",
    "'''\n",
    "c_dir = \"./data/JL/\"\n",
    "parsed_dir = \"./data/parsed/\" # might change ofc\n",
    "\n",
    "'''\n",
    "  returns: array of pairs (c_file, encoded_c_file)\n",
    "'''\n",
    "def load_dataset(c_dir, parsed_dir) -> list:\n",
    "  c_files = sorted(os.listdir(c_dir))\n",
    "  parsed_files = sorted(os.listdir(parsed_dir))\n",
    "\n",
    "  with ThreadPool() as pool:\n",
    "    c_files = map(lambda f: f\"{c_dir}{f}\", c_files)\n",
    "    parsed_files = map(lambda f: f\"{parsed_dir}{f}\", parsed_files)\n",
    "\n",
    "  file_paths = zip(c_files, parsed_files)\n",
    "\n",
    "  with ThreadPool() as pool:\n",
    "    return [pool.map(lambda pair: prepare_record(*file_paths), file_paths)]"
   ]
  },
  {
   "cell_type": "code",
   "execution_count": null,
   "metadata": {},
   "outputs": [],
   "source": [
    "dataset = load_dataset(c_dir, parsed_dir)\n",
    "dataset.shape"
   ]
  },
  {
   "cell_type": "code",
   "execution_count": null,
   "metadata": {},
   "outputs": [],
   "source": [
    "# single file\n",
    "file_data = np.loadtxt(\"data\\\\parsed\\\\NOT_SPECIFIED0.parsed\", dtype=float)\n",
    "\n",
    "print(file_data[2])"
   ]
  }
 ],
 "metadata": {
  "kernelspec": {
   "display_name": "Python 3.9.12 ('venv': venv)",
   "language": "python",
   "name": "python3"
  },
  "language_info": {
   "codemirror_mode": {
    "name": "ipython",
    "version": 3
   },
   "file_extension": ".py",
   "mimetype": "text/x-python",
   "name": "python",
   "nbconvert_exporter": "python",
   "pygments_lexer": "ipython3",
   "version": "3.9.12"
  },
  "orig_nbformat": 4,
  "vscode": {
   "interpreter": {
    "hash": "80d717405e3ce327cfc6a10a7c3be3a4a39215d9a17073dca3e8efe1a3c7fabb"
   }
  }
 },
 "nbformat": 4,
 "nbformat_minor": 2
}

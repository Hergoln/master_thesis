{
 "cells": [
  {
   "cell_type": "markdown",
   "metadata": {},
   "source": [
    "# Basic implementation\n",
    "\n",
    "- load file\n",
    "  - load file with encoded function\n",
    "  - turn it into a numpy array\n",
    "- noise (preprocessing)\n",
    "  - scale vector into 0-1 range\n",
    "  - add noise into it vectors values\n",
    "  - (test) rescale vector into values range 0-{whatever my dictionary size is}\n",
    "- pass it through a model\n",
    "  - create a simple model (does not have to be diffusion)\n",
    "  - (optional) develop loss function\n",
    "  - (optional) implement diffusion model"
   ]
  },
  {
   "cell_type": "code",
   "execution_count": null,
   "metadata": {},
   "outputs": [],
   "source": []
  }
 ],
 "metadata": {
  "language_info": {
   "name": "python"
  },
  "orig_nbformat": 4
 },
 "nbformat": 4,
 "nbformat_minor": 2
}

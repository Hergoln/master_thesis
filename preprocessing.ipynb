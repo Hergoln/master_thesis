{
 "cells": [
  {
   "cell_type": "markdown",
   "metadata": {},
   "source": [
    "# Preprocessing\n",
    "Ten notebook służy do preprocesowania plików źródłowych z zadaniami studenckimi\n"
   ]
  },
  {
   "cell_type": "code",
   "execution_count": 1,
   "metadata": {},
   "outputs": [],
   "source": [
    "import os\n",
    "import preprocessing as pp"
   ]
  }
 ],
 "metadata": {
  "interpreter": {
   "hash": "83e5758dd80e10856a45c2b2ff154d024644eb40cebfd0eb4777aeb3d9db16cb"
  },
  "kernelspec": {
   "display_name": "Python 3.8.5 ('tf_gpu')",
   "language": "python",
   "name": "python3"
  },
  "language_info": {
   "codemirror_mode": {
    "name": "ipython",
    "version": 3
   },
   "file_extension": ".py",
   "mimetype": "text/x-python",
   "name": "python",
   "nbconvert_exporter": "python",
   "pygments_lexer": "ipython3",
   "version": "3.8.5"
  },
  "orig_nbformat": 4
 },
 "nbformat": 4,
 "nbformat_minor": 2
}

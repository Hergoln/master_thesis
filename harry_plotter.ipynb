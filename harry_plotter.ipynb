{
 "cells": [
  {
   "cell_type": "code",
   "execution_count": null,
   "metadata": {},
   "outputs": [],
   "source": [
    "from matplotlib import pyplot as plt\n",
    "import numpy as np"
   ]
  },
  {
   "cell_type": "code",
   "execution_count": null,
   "metadata": {},
   "outputs": [],
   "source": [
    "def plot_things(data_path):\n",
    "  '''\n",
    "    data will always have epoch number as its first column\n",
    "  '''\n",
    "  data = np.genfromtxt(data_path, dtype=float, delimiter=',', names=True)\n",
    "  labels = data.dtype.names\n",
    "\n",
    "  fig, ax = plt.subplots(len(labels) - 1, 1)\n",
    "\n",
    "  for count, label in enumerate(labels[1:]):\n",
    "    ax[count].set_title(label)\n",
    "    ax[count].plot(data[label])\n",
    "\n",
    "  fig.tight_layout()\n",
    "  return fig\n",
    "\n",
    "path_to_csv = \"checkpoints\\\\diffusion_model\\\\history.csv\"\n",
    "fig = plot_things(path_to_csv)\n"
   ]
  }
 ],
 "metadata": {
  "kernelspec": {
   "display_name": "venv",
   "language": "python",
   "name": "python3"
  },
  "language_info": {
   "codemirror_mode": {
    "name": "ipython",
    "version": 3
   },
   "file_extension": ".py",
   "mimetype": "text/x-python",
   "name": "python",
   "nbconvert_exporter": "python",
   "pygments_lexer": "ipython3",
   "version": "3.9.12 (main, Apr  4 2022, 05:22:27) [MSC v.1916 64 bit (AMD64)]"
  },
  "orig_nbformat": 4,
  "vscode": {
   "interpreter": {
    "hash": "80d717405e3ce327cfc6a10a7c3be3a4a39215d9a17073dca3e8efe1a3c7fabb"
   }
  }
 },
 "nbformat": 4,
 "nbformat_minor": 2
}
